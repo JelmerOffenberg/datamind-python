{
 "cells": [
  {
   "cell_type": "markdown",
   "metadata": {},
   "source": [
    "# Welcome to Python for Data Science!\n",
    "Today we'll explore the world of Pandas. We will be using a timeseries dataset from the UCI Machine Learning repository to learn to how to wrangle data and perform analysis. In the second half of the day you'll do some feature engineering and finally there will be room to build a small model to actually put your features to use!\n",
    "\n",
    "<img src=\"https://miro.medium.com/max/1400/1*1oVjIRY3Bnmbw-idCtg4BQ@2x.jpeg\" style=\"width: 60%;\"/>\n",
    "\n",
    "## In this part we'll cover the following topics:\n",
    "- Data ingestion\n",
    "- Data cleaning\n",
    "- Data exploration (specifically timeseries) \n",
    "- Storing your data (you'll need it in the next part)."
   ],
   "id": "9336a81ae2aa96c3"
  },
  {
   "metadata": {},
   "cell_type": "markdown",
   "source": "---",
   "id": "789e7fe5873f36d"
  },
  {
   "cell_type": "markdown",
   "metadata": {},
   "source": [
    "## Downloading data from UCI\n",
    "Use the extract method that is applicable for you. If you have any issues with these steps, please ask for help."
   ],
   "id": "cc105c5a8070fabc"
  },
  {
   "cell_type": "code",
   "metadata": {},
   "source": [
    "! mkdir -p data && curl -L https://github.com/JelmerOffenberg/datamind-python/blob/master/data/dataset.zip?raw=true --output ./data/dataset.zip && unzip ./data/dataset.zip -d ./data && mv -f ./data/household_power_consumption.txt ./data/household_power_consumption.csv "
   ],
   "id": "d7045444f7c40656",
   "outputs": [],
   "execution_count": null
  },
  {
   "cell_type": "markdown",
   "metadata": {},
   "source": [
    "## Getting started\n",
    "First things first, import the following libraries: `pandas`, `matplotlib` and `numpy`"
   ],
   "id": "367eb4a8ab6f01dc"
  },
  {
   "cell_type": "code",
   "metadata": {
    "ExecuteTime": {
     "end_time": "2025-05-26T17:12:59.183130Z",
     "start_time": "2025-05-26T17:12:56.046225Z"
    }
   },
   "source": [
    "# Your solution\n",
    "import pandas as pd\n",
    "import matplotlib\n",
    "import numpy"
   ],
   "id": "1aa5bc54a3ec11a3",
   "outputs": [],
   "execution_count": 1
  },
  {
   "metadata": {
    "ExecuteTime": {
     "end_time": "2025-05-26T17:35:09.640720Z",
     "start_time": "2025-05-26T17:35:09.638038Z"
    }
   },
   "cell_type": "code",
   "source": "%matplotlib inline",
   "id": "ade6b22ca8f8b0d6",
   "outputs": [],
   "execution_count": 41
  },
  {
   "cell_type": "markdown",
   "metadata": {},
   "source": [
    "---"
   ],
   "id": "640ea2ca007403d2"
  },
  {
   "cell_type": "markdown",
   "metadata": {},
   "source": [
    "# Ingestion\n",
    "The first step in the data science process is data collection. In this section we'll load in some data. Information about the dataset that we'll be loading is located [here](https://archive.ics.uci.edu/ml/datasets/individual+household+electric+power+consumption). \n",
    "\n",
    "**Exercise:**\n",
    "* Load the power consumption dataset from the data folder\n",
    "* Inspect the top 5 rows\n",
    "* Check the data types of the dataframe and answer the following questions:\n",
    "    * What's wrong with the data types in the info panel?\n",
    "    * What data types would you expect for each column?\n",
    "    * Does it make sense to have date and time columns separated?\n",
    "    "
   ],
   "id": "7f12d1dd11d98a8b"
  },
  {
   "cell_type": "code",
   "metadata": {
    "ExecuteTime": {
     "end_time": "2025-05-26T17:27:18.937869Z",
     "start_time": "2025-05-26T17:27:18.025187Z"
    }
   },
   "source": [
    "# Start with a simple load\n",
    "\n",
    "# df = pd.read_csv(\"../data/household_power_consumption.csv\")\n",
    "\n",
    "# After discovering the separator your load function should look like this:\n",
    "# Load data properly\n",
    "\n",
    "# df = pd.read_csv(\"../data/household_power_consumption.csv\", sep=\";\")\n",
    "\n",
    "\n",
    "# After completing data cleaning, your load function should look like this:\n",
    "# It seems that there are missing values annotated with '?' in the data, causing the column to be of object type (string). Let's load the dataset with marking '?' as NaN values\n",
    "df = pd.read_csv(\"../data/household_power_consumption.csv\", sep=\";\", na_values=\"?\")"
   ],
   "id": "74c6138464ed1c78",
   "outputs": [],
   "execution_count": 22
  },
  {
   "metadata": {
    "ExecuteTime": {
     "end_time": "2025-05-26T17:17:18.209776Z",
     "start_time": "2025-05-26T17:17:18.189576Z"
    }
   },
   "cell_type": "code",
   "source": "df.head(5)",
   "id": "28119f90471210b",
   "outputs": [
    {
     "data": {
      "text/plain": [
       "  Date;Time;Global_active_power;Global_reactive_power;Voltage;Global_intensity;Sub_metering_1;Sub_metering_2;Sub_metering_3\n",
       "0  16/12/2006;17:24:00;4.216;0.418;234.840;18.400...                                                                       \n",
       "1  16/12/2006;17:25:00;5.360;0.436;233.630;23.000...                                                                       \n",
       "2  16/12/2006;17:26:00;5.374;0.498;233.290;23.000...                                                                       \n",
       "3  16/12/2006;17:27:00;5.388;0.502;233.740;23.000...                                                                       \n",
       "4  16/12/2006;17:28:00;3.666;0.528;235.680;15.800...                                                                       "
      ],
      "text/html": [
       "<div>\n",
       "<style scoped>\n",
       "    .dataframe tbody tr th:only-of-type {\n",
       "        vertical-align: middle;\n",
       "    }\n",
       "\n",
       "    .dataframe tbody tr th {\n",
       "        vertical-align: top;\n",
       "    }\n",
       "\n",
       "    .dataframe thead th {\n",
       "        text-align: right;\n",
       "    }\n",
       "</style>\n",
       "<table border=\"1\" class=\"dataframe\">\n",
       "  <thead>\n",
       "    <tr style=\"text-align: right;\">\n",
       "      <th></th>\n",
       "      <th>Date;Time;Global_active_power;Global_reactive_power;Voltage;Global_intensity;Sub_metering_1;Sub_metering_2;Sub_metering_3</th>\n",
       "    </tr>\n",
       "  </thead>\n",
       "  <tbody>\n",
       "    <tr>\n",
       "      <th>0</th>\n",
       "      <td>16/12/2006;17:24:00;4.216;0.418;234.840;18.400...</td>\n",
       "    </tr>\n",
       "    <tr>\n",
       "      <th>1</th>\n",
       "      <td>16/12/2006;17:25:00;5.360;0.436;233.630;23.000...</td>\n",
       "    </tr>\n",
       "    <tr>\n",
       "      <th>2</th>\n",
       "      <td>16/12/2006;17:26:00;5.374;0.498;233.290;23.000...</td>\n",
       "    </tr>\n",
       "    <tr>\n",
       "      <th>3</th>\n",
       "      <td>16/12/2006;17:27:00;5.388;0.502;233.740;23.000...</td>\n",
       "    </tr>\n",
       "    <tr>\n",
       "      <th>4</th>\n",
       "      <td>16/12/2006;17:28:00;3.666;0.528;235.680;15.800...</td>\n",
       "    </tr>\n",
       "  </tbody>\n",
       "</table>\n",
       "</div>"
      ]
     },
     "execution_count": 5,
     "metadata": {},
     "output_type": "execute_result"
    }
   ],
   "execution_count": 5
  },
  {
   "metadata": {
    "ExecuteTime": {
     "end_time": "2025-05-26T17:17:24.326531Z",
     "start_time": "2025-05-26T17:17:24.322988Z"
    }
   },
   "cell_type": "code",
   "source": "df.dtypes",
   "id": "2642780a17ea0be9",
   "outputs": [
    {
     "data": {
      "text/plain": [
       "Date;Time;Global_active_power;Global_reactive_power;Voltage;Global_intensity;Sub_metering_1;Sub_metering_2;Sub_metering_3    object\n",
       "dtype: object"
      ]
     },
     "execution_count": 6,
     "metadata": {},
     "output_type": "execute_result"
    }
   ],
   "execution_count": 6
  },
  {
   "metadata": {
    "ExecuteTime": {
     "end_time": "2025-05-26T17:18:09.176184Z",
     "start_time": "2025-05-26T17:18:08.045453Z"
    }
   },
   "cell_type": "code",
   "source": [
    "# Load data properly\n",
    "df = pd.read_csv(\"../data/household_power_consumption.csv\", sep=\";\")\n",
    "df.head()"
   ],
   "id": "373162612066c448",
   "outputs": [
    {
     "name": "stderr",
     "output_type": "stream",
     "text": [
      "/var/folders/nn/sc3c7qzd06g1w5b6mz4ff9sh0000gn/T/ipykernel_26215/3103214229.py:2: DtypeWarning: Columns (2,3,4,5,6,7) have mixed types. Specify dtype option on import or set low_memory=False.\n",
      "  df = pd.read_csv(\"../data/household_power_consumption.csv\", sep=\";\")\n"
     ]
    },
    {
     "data": {
      "text/plain": [
       "         Date      Time Global_active_power Global_reactive_power  Voltage  \\\n",
       "0  16/12/2006  17:24:00               4.216                 0.418  234.840   \n",
       "1  16/12/2006  17:25:00               5.360                 0.436  233.630   \n",
       "2  16/12/2006  17:26:00               5.374                 0.498  233.290   \n",
       "3  16/12/2006  17:27:00               5.388                 0.502  233.740   \n",
       "4  16/12/2006  17:28:00               3.666                 0.528  235.680   \n",
       "\n",
       "  Global_intensity Sub_metering_1 Sub_metering_2  Sub_metering_3  \n",
       "0           18.400          0.000          1.000            17.0  \n",
       "1           23.000          0.000          1.000            16.0  \n",
       "2           23.000          0.000          2.000            17.0  \n",
       "3           23.000          0.000          1.000            17.0  \n",
       "4           15.800          0.000          1.000            17.0  "
      ],
      "text/html": [
       "<div>\n",
       "<style scoped>\n",
       "    .dataframe tbody tr th:only-of-type {\n",
       "        vertical-align: middle;\n",
       "    }\n",
       "\n",
       "    .dataframe tbody tr th {\n",
       "        vertical-align: top;\n",
       "    }\n",
       "\n",
       "    .dataframe thead th {\n",
       "        text-align: right;\n",
       "    }\n",
       "</style>\n",
       "<table border=\"1\" class=\"dataframe\">\n",
       "  <thead>\n",
       "    <tr style=\"text-align: right;\">\n",
       "      <th></th>\n",
       "      <th>Date</th>\n",
       "      <th>Time</th>\n",
       "      <th>Global_active_power</th>\n",
       "      <th>Global_reactive_power</th>\n",
       "      <th>Voltage</th>\n",
       "      <th>Global_intensity</th>\n",
       "      <th>Sub_metering_1</th>\n",
       "      <th>Sub_metering_2</th>\n",
       "      <th>Sub_metering_3</th>\n",
       "    </tr>\n",
       "  </thead>\n",
       "  <tbody>\n",
       "    <tr>\n",
       "      <th>0</th>\n",
       "      <td>16/12/2006</td>\n",
       "      <td>17:24:00</td>\n",
       "      <td>4.216</td>\n",
       "      <td>0.418</td>\n",
       "      <td>234.840</td>\n",
       "      <td>18.400</td>\n",
       "      <td>0.000</td>\n",
       "      <td>1.000</td>\n",
       "      <td>17.0</td>\n",
       "    </tr>\n",
       "    <tr>\n",
       "      <th>1</th>\n",
       "      <td>16/12/2006</td>\n",
       "      <td>17:25:00</td>\n",
       "      <td>5.360</td>\n",
       "      <td>0.436</td>\n",
       "      <td>233.630</td>\n",
       "      <td>23.000</td>\n",
       "      <td>0.000</td>\n",
       "      <td>1.000</td>\n",
       "      <td>16.0</td>\n",
       "    </tr>\n",
       "    <tr>\n",
       "      <th>2</th>\n",
       "      <td>16/12/2006</td>\n",
       "      <td>17:26:00</td>\n",
       "      <td>5.374</td>\n",
       "      <td>0.498</td>\n",
       "      <td>233.290</td>\n",
       "      <td>23.000</td>\n",
       "      <td>0.000</td>\n",
       "      <td>2.000</td>\n",
       "      <td>17.0</td>\n",
       "    </tr>\n",
       "    <tr>\n",
       "      <th>3</th>\n",
       "      <td>16/12/2006</td>\n",
       "      <td>17:27:00</td>\n",
       "      <td>5.388</td>\n",
       "      <td>0.502</td>\n",
       "      <td>233.740</td>\n",
       "      <td>23.000</td>\n",
       "      <td>0.000</td>\n",
       "      <td>1.000</td>\n",
       "      <td>17.0</td>\n",
       "    </tr>\n",
       "    <tr>\n",
       "      <th>4</th>\n",
       "      <td>16/12/2006</td>\n",
       "      <td>17:28:00</td>\n",
       "      <td>3.666</td>\n",
       "      <td>0.528</td>\n",
       "      <td>235.680</td>\n",
       "      <td>15.800</td>\n",
       "      <td>0.000</td>\n",
       "      <td>1.000</td>\n",
       "      <td>17.0</td>\n",
       "    </tr>\n",
       "  </tbody>\n",
       "</table>\n",
       "</div>"
      ]
     },
     "execution_count": 8,
     "metadata": {},
     "output_type": "execute_result"
    }
   ],
   "execution_count": 8
  },
  {
   "metadata": {
    "ExecuteTime": {
     "end_time": "2025-05-26T17:18:23.941300Z",
     "start_time": "2025-05-26T17:18:23.934944Z"
    }
   },
   "cell_type": "code",
   "source": "df.info()",
   "id": "601392e985e48e33",
   "outputs": [
    {
     "name": "stdout",
     "output_type": "stream",
     "text": [
      "<class 'pandas.core.frame.DataFrame'>\n",
      "RangeIndex: 2075259 entries, 0 to 2075258\n",
      "Data columns (total 9 columns):\n",
      " #   Column                 Dtype  \n",
      "---  ------                 -----  \n",
      " 0   Date                   object \n",
      " 1   Time                   object \n",
      " 2   Global_active_power    object \n",
      " 3   Global_reactive_power  object \n",
      " 4   Voltage                object \n",
      " 5   Global_intensity       object \n",
      " 6   Sub_metering_1         object \n",
      " 7   Sub_metering_2         object \n",
      " 8   Sub_metering_3         float64\n",
      "dtypes: float64(1), object(8)\n",
      "memory usage: 142.5+ MB\n"
     ]
    }
   ],
   "execution_count": 9
  },
  {
   "metadata": {},
   "cell_type": "markdown",
   "source": [
    "\n",
    "\n",
    "### Answers to the Ingestion questions:\n",
    "- Columns have mixed data types, that's why you see object (string) everywhere.\n",
    "- All power related columns should be float or int, date should be datetime, and time should be datetime.\n",
    "- The separation of date and time columns could have its reasons, but merging them would make things much easier."
   ],
   "id": "2d3cc2ec49f946eb"
  },
  {
   "cell_type": "markdown",
   "metadata": {},
   "source": [
    "---"
   ],
   "id": "97d036c401aaba66"
  },
  {
   "cell_type": "markdown",
   "metadata": {},
   "source": [
    "# Data cleaning\n",
    "In this section you're going to do some data cleaning. Since this is a timeseries dataset, you'll need to make it more usable before we can continue.\n",
    "- Add date and time columns together and make a single datetime variable. Verify that your new column has the right data type and is correct. The result should be a datetime64\\[ns\\] object.\n",
    "- Remove the date and time column from the dataset. \n",
    "- Have a look at our variable of interest; `Global_active_power`\n",
    "    - What data type was assigned by pandas to this variable? Does this make sense?\n",
    "    - Try casing the variable to the right data type, what do you see?\n",
    "    - Can you explain this behaviour?\n",
    "    - Fix the way you load data and rerun your code\n",
    "    - What change occurred with the data types?\n",
    "- If you read the dataset description in the previous step, it seems that we can construct a column with the **total energy consumption per minute in watt-hour** on the columns that are available. Do this and name this column `power`. \n",
    "\n",
    "    "
   ],
   "id": "4da0b971fdb66655"
  },
  {
   "cell_type": "code",
   "metadata": {
    "ExecuteTime": {
     "end_time": "2025-05-26T17:27:27.544090Z",
     "start_time": "2025-05-26T17:27:24.535805Z"
    }
   },
   "source": [
    "# add date and time\n",
    "df[\"datetime\"] = df[\"Date\"] + \" \" + df[\"Time\"]  # This creates a new string column\n",
    "\n",
    "df[\"datetime\"]  = pd.to_datetime(df[\"datetime\"])"
   ],
   "id": "44f906f2aa2077b0",
   "outputs": [
    {
     "name": "stderr",
     "output_type": "stream",
     "text": [
      "/var/folders/nn/sc3c7qzd06g1w5b6mz4ff9sh0000gn/T/ipykernel_26215/2095457291.py:4: UserWarning: Parsing dates in %d/%m/%Y %H:%M:%S format when dayfirst=False (the default) was specified. Pass `dayfirst=True` or specify a format to silence this warning.\n",
      "  df[\"datetime\"]  = pd.to_datetime(df[\"datetime\"])\n"
     ]
    }
   ],
   "execution_count": 23
  },
  {
   "metadata": {
    "ExecuteTime": {
     "end_time": "2025-05-26T17:27:27.605936Z",
     "start_time": "2025-05-26T17:27:27.603110Z"
    }
   },
   "cell_type": "code",
   "source": "df.dtypes",
   "id": "805e1624394bd58a",
   "outputs": [
    {
     "data": {
      "text/plain": [
       "Date                             object\n",
       "Time                             object\n",
       "Global_active_power             float64\n",
       "Global_reactive_power           float64\n",
       "Voltage                         float64\n",
       "Global_intensity                float64\n",
       "Sub_metering_1                  float64\n",
       "Sub_metering_2                  float64\n",
       "Sub_metering_3                  float64\n",
       "datetime                 datetime64[ns]\n",
       "dtype: object"
      ]
     },
     "execution_count": 24,
     "metadata": {},
     "output_type": "execute_result"
    }
   ],
   "execution_count": 24
  },
  {
   "metadata": {
    "ExecuteTime": {
     "end_time": "2025-05-26T17:27:27.673757Z",
     "start_time": "2025-05-26T17:27:27.640033Z"
    }
   },
   "cell_type": "code",
   "source": [
    "# Remove date and time columns since we now have datetime\n",
    "df.drop([\"Date\", \"Time\"], axis=1, inplace=True)"
   ],
   "id": "78daaec1c4bbe78f",
   "outputs": [],
   "execution_count": 25
  },
  {
   "metadata": {
    "ExecuteTime": {
     "end_time": "2025-05-26T17:23:15.106262Z",
     "start_time": "2025-05-26T17:23:15.103536Z"
    }
   },
   "cell_type": "code",
   "source": "df.columns",
   "id": "fc54750780ae428a",
   "outputs": [
    {
     "data": {
      "text/plain": [
       "Index(['Global_active_power', 'Global_reactive_power', 'Voltage',\n",
       "       'Global_intensity', 'Sub_metering_1', 'Sub_metering_2',\n",
       "       'Sub_metering_3', 'datetime'],\n",
       "      dtype='object')"
      ]
     },
     "execution_count": 16,
     "metadata": {},
     "output_type": "execute_result"
    }
   ],
   "execution_count": 16
  },
  {
   "metadata": {
    "ExecuteTime": {
     "end_time": "2025-05-26T17:24:17.351435Z",
     "start_time": "2025-05-26T17:24:17.283156Z"
    }
   },
   "cell_type": "code",
   "source": [
    "# Let's fix the Global Active Power\n",
    "df[\"Global_active_power\"].astype(float)\n",
    "\n",
    "# It seems that there are missing values annotated with '?' in the data, causing the column to be of object type (string). Let's load the dataset with marking '?' as NaN values, update the read_csv function in the first cell"
   ],
   "id": "16065c6ec1246751",
   "outputs": [
    {
     "ename": "ValueError",
     "evalue": "could not convert string to float: '?'",
     "output_type": "error",
     "traceback": [
      "\u001B[31m---------------------------------------------------------------------------\u001B[39m",
      "\u001B[31mValueError\u001B[39m                                Traceback (most recent call last)",
      "\u001B[36mCell\u001B[39m\u001B[36m \u001B[39m\u001B[32mIn[18]\u001B[39m\u001B[32m, line 2\u001B[39m\n\u001B[32m      1\u001B[39m \u001B[38;5;66;03m# Let's fix the Global Active Power\u001B[39;00m\n\u001B[32m----> \u001B[39m\u001B[32m2\u001B[39m \u001B[43mdf\u001B[49m\u001B[43m[\u001B[49m\u001B[33;43m\"\u001B[39;49m\u001B[33;43mGlobal_active_power\u001B[39;49m\u001B[33;43m\"\u001B[39;49m\u001B[43m]\u001B[49m\u001B[43m.\u001B[49m\u001B[43mastype\u001B[49m\u001B[43m(\u001B[49m\u001B[38;5;28;43mfloat\u001B[39;49m\u001B[43m)\u001B[49m\n",
      "\u001B[36mFile \u001B[39m\u001B[32m~/Code/datamind-python/.venv/lib/python3.12/site-packages/pandas/core/generic.py:6643\u001B[39m, in \u001B[36mNDFrame.astype\u001B[39m\u001B[34m(self, dtype, copy, errors)\u001B[39m\n\u001B[32m   6637\u001B[39m     results = [\n\u001B[32m   6638\u001B[39m         ser.astype(dtype, copy=copy, errors=errors) \u001B[38;5;28;01mfor\u001B[39;00m _, ser \u001B[38;5;129;01min\u001B[39;00m \u001B[38;5;28mself\u001B[39m.items()\n\u001B[32m   6639\u001B[39m     ]\n\u001B[32m   6641\u001B[39m \u001B[38;5;28;01melse\u001B[39;00m:\n\u001B[32m   6642\u001B[39m     \u001B[38;5;66;03m# else, only a single dtype is given\u001B[39;00m\n\u001B[32m-> \u001B[39m\u001B[32m6643\u001B[39m     new_data = \u001B[38;5;28;43mself\u001B[39;49m\u001B[43m.\u001B[49m\u001B[43m_mgr\u001B[49m\u001B[43m.\u001B[49m\u001B[43mastype\u001B[49m\u001B[43m(\u001B[49m\u001B[43mdtype\u001B[49m\u001B[43m=\u001B[49m\u001B[43mdtype\u001B[49m\u001B[43m,\u001B[49m\u001B[43m \u001B[49m\u001B[43mcopy\u001B[49m\u001B[43m=\u001B[49m\u001B[43mcopy\u001B[49m\u001B[43m,\u001B[49m\u001B[43m \u001B[49m\u001B[43merrors\u001B[49m\u001B[43m=\u001B[49m\u001B[43merrors\u001B[49m\u001B[43m)\u001B[49m\n\u001B[32m   6644\u001B[39m     res = \u001B[38;5;28mself\u001B[39m._constructor_from_mgr(new_data, axes=new_data.axes)\n\u001B[32m   6645\u001B[39m     \u001B[38;5;28;01mreturn\u001B[39;00m res.__finalize__(\u001B[38;5;28mself\u001B[39m, method=\u001B[33m\"\u001B[39m\u001B[33mastype\u001B[39m\u001B[33m\"\u001B[39m)\n",
      "\u001B[36mFile \u001B[39m\u001B[32m~/Code/datamind-python/.venv/lib/python3.12/site-packages/pandas/core/internals/managers.py:430\u001B[39m, in \u001B[36mBaseBlockManager.astype\u001B[39m\u001B[34m(self, dtype, copy, errors)\u001B[39m\n\u001B[32m    427\u001B[39m \u001B[38;5;28;01melif\u001B[39;00m using_copy_on_write():\n\u001B[32m    428\u001B[39m     copy = \u001B[38;5;28;01mFalse\u001B[39;00m\n\u001B[32m--> \u001B[39m\u001B[32m430\u001B[39m \u001B[38;5;28;01mreturn\u001B[39;00m \u001B[38;5;28;43mself\u001B[39;49m\u001B[43m.\u001B[49m\u001B[43mapply\u001B[49m\u001B[43m(\u001B[49m\n\u001B[32m    431\u001B[39m \u001B[43m    \u001B[49m\u001B[33;43m\"\u001B[39;49m\u001B[33;43mastype\u001B[39;49m\u001B[33;43m\"\u001B[39;49m\u001B[43m,\u001B[49m\n\u001B[32m    432\u001B[39m \u001B[43m    \u001B[49m\u001B[43mdtype\u001B[49m\u001B[43m=\u001B[49m\u001B[43mdtype\u001B[49m\u001B[43m,\u001B[49m\n\u001B[32m    433\u001B[39m \u001B[43m    \u001B[49m\u001B[43mcopy\u001B[49m\u001B[43m=\u001B[49m\u001B[43mcopy\u001B[49m\u001B[43m,\u001B[49m\n\u001B[32m    434\u001B[39m \u001B[43m    \u001B[49m\u001B[43merrors\u001B[49m\u001B[43m=\u001B[49m\u001B[43merrors\u001B[49m\u001B[43m,\u001B[49m\n\u001B[32m    435\u001B[39m \u001B[43m    \u001B[49m\u001B[43musing_cow\u001B[49m\u001B[43m=\u001B[49m\u001B[43musing_copy_on_write\u001B[49m\u001B[43m(\u001B[49m\u001B[43m)\u001B[49m\u001B[43m,\u001B[49m\n\u001B[32m    436\u001B[39m \u001B[43m\u001B[49m\u001B[43m)\u001B[49m\n",
      "\u001B[36mFile \u001B[39m\u001B[32m~/Code/datamind-python/.venv/lib/python3.12/site-packages/pandas/core/internals/managers.py:363\u001B[39m, in \u001B[36mBaseBlockManager.apply\u001B[39m\u001B[34m(self, f, align_keys, **kwargs)\u001B[39m\n\u001B[32m    361\u001B[39m         applied = b.apply(f, **kwargs)\n\u001B[32m    362\u001B[39m     \u001B[38;5;28;01melse\u001B[39;00m:\n\u001B[32m--> \u001B[39m\u001B[32m363\u001B[39m         applied = \u001B[38;5;28;43mgetattr\u001B[39;49m\u001B[43m(\u001B[49m\u001B[43mb\u001B[49m\u001B[43m,\u001B[49m\u001B[43m \u001B[49m\u001B[43mf\u001B[49m\u001B[43m)\u001B[49m\u001B[43m(\u001B[49m\u001B[43m*\u001B[49m\u001B[43m*\u001B[49m\u001B[43mkwargs\u001B[49m\u001B[43m)\u001B[49m\n\u001B[32m    364\u001B[39m     result_blocks = extend_blocks(applied, result_blocks)\n\u001B[32m    366\u001B[39m out = \u001B[38;5;28mtype\u001B[39m(\u001B[38;5;28mself\u001B[39m).from_blocks(result_blocks, \u001B[38;5;28mself\u001B[39m.axes)\n",
      "\u001B[36mFile \u001B[39m\u001B[32m~/Code/datamind-python/.venv/lib/python3.12/site-packages/pandas/core/internals/blocks.py:758\u001B[39m, in \u001B[36mBlock.astype\u001B[39m\u001B[34m(self, dtype, copy, errors, using_cow, squeeze)\u001B[39m\n\u001B[32m    755\u001B[39m         \u001B[38;5;28;01mraise\u001B[39;00m \u001B[38;5;167;01mValueError\u001B[39;00m(\u001B[33m\"\u001B[39m\u001B[33mCan not squeeze with more than one column.\u001B[39m\u001B[33m\"\u001B[39m)\n\u001B[32m    756\u001B[39m     values = values[\u001B[32m0\u001B[39m, :]  \u001B[38;5;66;03m# type: ignore[call-overload]\u001B[39;00m\n\u001B[32m--> \u001B[39m\u001B[32m758\u001B[39m new_values = \u001B[43mastype_array_safe\u001B[49m\u001B[43m(\u001B[49m\u001B[43mvalues\u001B[49m\u001B[43m,\u001B[49m\u001B[43m \u001B[49m\u001B[43mdtype\u001B[49m\u001B[43m,\u001B[49m\u001B[43m \u001B[49m\u001B[43mcopy\u001B[49m\u001B[43m=\u001B[49m\u001B[43mcopy\u001B[49m\u001B[43m,\u001B[49m\u001B[43m \u001B[49m\u001B[43merrors\u001B[49m\u001B[43m=\u001B[49m\u001B[43merrors\u001B[49m\u001B[43m)\u001B[49m\n\u001B[32m    760\u001B[39m new_values = maybe_coerce_values(new_values)\n\u001B[32m    762\u001B[39m refs = \u001B[38;5;28;01mNone\u001B[39;00m\n",
      "\u001B[36mFile \u001B[39m\u001B[32m~/Code/datamind-python/.venv/lib/python3.12/site-packages/pandas/core/dtypes/astype.py:237\u001B[39m, in \u001B[36mastype_array_safe\u001B[39m\u001B[34m(values, dtype, copy, errors)\u001B[39m\n\u001B[32m    234\u001B[39m     dtype = dtype.numpy_dtype\n\u001B[32m    236\u001B[39m \u001B[38;5;28;01mtry\u001B[39;00m:\n\u001B[32m--> \u001B[39m\u001B[32m237\u001B[39m     new_values = \u001B[43mastype_array\u001B[49m\u001B[43m(\u001B[49m\u001B[43mvalues\u001B[49m\u001B[43m,\u001B[49m\u001B[43m \u001B[49m\u001B[43mdtype\u001B[49m\u001B[43m,\u001B[49m\u001B[43m \u001B[49m\u001B[43mcopy\u001B[49m\u001B[43m=\u001B[49m\u001B[43mcopy\u001B[49m\u001B[43m)\u001B[49m\n\u001B[32m    238\u001B[39m \u001B[38;5;28;01mexcept\u001B[39;00m (\u001B[38;5;167;01mValueError\u001B[39;00m, \u001B[38;5;167;01mTypeError\u001B[39;00m):\n\u001B[32m    239\u001B[39m     \u001B[38;5;66;03m# e.g. _astype_nansafe can fail on object-dtype of strings\u001B[39;00m\n\u001B[32m    240\u001B[39m     \u001B[38;5;66;03m#  trying to convert to float\u001B[39;00m\n\u001B[32m    241\u001B[39m     \u001B[38;5;28;01mif\u001B[39;00m errors == \u001B[33m\"\u001B[39m\u001B[33mignore\u001B[39m\u001B[33m\"\u001B[39m:\n",
      "\u001B[36mFile \u001B[39m\u001B[32m~/Code/datamind-python/.venv/lib/python3.12/site-packages/pandas/core/dtypes/astype.py:182\u001B[39m, in \u001B[36mastype_array\u001B[39m\u001B[34m(values, dtype, copy)\u001B[39m\n\u001B[32m    179\u001B[39m     values = values.astype(dtype, copy=copy)\n\u001B[32m    181\u001B[39m \u001B[38;5;28;01melse\u001B[39;00m:\n\u001B[32m--> \u001B[39m\u001B[32m182\u001B[39m     values = \u001B[43m_astype_nansafe\u001B[49m\u001B[43m(\u001B[49m\u001B[43mvalues\u001B[49m\u001B[43m,\u001B[49m\u001B[43m \u001B[49m\u001B[43mdtype\u001B[49m\u001B[43m,\u001B[49m\u001B[43m \u001B[49m\u001B[43mcopy\u001B[49m\u001B[43m=\u001B[49m\u001B[43mcopy\u001B[49m\u001B[43m)\u001B[49m\n\u001B[32m    184\u001B[39m \u001B[38;5;66;03m# in pandas we don't store numpy str dtypes, so convert to object\u001B[39;00m\n\u001B[32m    185\u001B[39m \u001B[38;5;28;01mif\u001B[39;00m \u001B[38;5;28misinstance\u001B[39m(dtype, np.dtype) \u001B[38;5;129;01mand\u001B[39;00m \u001B[38;5;28missubclass\u001B[39m(values.dtype.type, \u001B[38;5;28mstr\u001B[39m):\n",
      "\u001B[36mFile \u001B[39m\u001B[32m~/Code/datamind-python/.venv/lib/python3.12/site-packages/pandas/core/dtypes/astype.py:133\u001B[39m, in \u001B[36m_astype_nansafe\u001B[39m\u001B[34m(arr, dtype, copy, skipna)\u001B[39m\n\u001B[32m    129\u001B[39m     \u001B[38;5;28;01mraise\u001B[39;00m \u001B[38;5;167;01mValueError\u001B[39;00m(msg)\n\u001B[32m    131\u001B[39m \u001B[38;5;28;01mif\u001B[39;00m copy \u001B[38;5;129;01mor\u001B[39;00m arr.dtype == \u001B[38;5;28mobject\u001B[39m \u001B[38;5;129;01mor\u001B[39;00m dtype == \u001B[38;5;28mobject\u001B[39m:\n\u001B[32m    132\u001B[39m     \u001B[38;5;66;03m# Explicit copy, or required since NumPy can't view from / to object.\u001B[39;00m\n\u001B[32m--> \u001B[39m\u001B[32m133\u001B[39m     \u001B[38;5;28;01mreturn\u001B[39;00m \u001B[43marr\u001B[49m\u001B[43m.\u001B[49m\u001B[43mastype\u001B[49m\u001B[43m(\u001B[49m\u001B[43mdtype\u001B[49m\u001B[43m,\u001B[49m\u001B[43m \u001B[49m\u001B[43mcopy\u001B[49m\u001B[43m=\u001B[49m\u001B[38;5;28;43;01mTrue\u001B[39;49;00m\u001B[43m)\u001B[49m\n\u001B[32m    135\u001B[39m \u001B[38;5;28;01mreturn\u001B[39;00m arr.astype(dtype, copy=copy)\n",
      "\u001B[31mValueError\u001B[39m: could not convert string to float: '?'"
     ]
    }
   ],
   "execution_count": 18
  },
  {
   "metadata": {
    "ExecuteTime": {
     "end_time": "2025-05-26T17:29:33.325278Z",
     "start_time": "2025-05-26T17:29:33.296545Z"
    }
   },
   "cell_type": "code",
   "source": [
    "df = df.assign(\n",
    "    power = lambda x: x.Global_active_power * 1000 / 60 - x.Sub_metering_1 - x.Sub_metering_2 - x.Sub_metering_3\n",
    ")"
   ],
   "id": "7a2ddf920ae9a6ee",
   "outputs": [],
   "execution_count": 26
  },
  {
   "metadata": {
    "ExecuteTime": {
     "end_time": "2025-05-26T17:29:37.892245Z",
     "start_time": "2025-05-26T17:29:37.885259Z"
    }
   },
   "cell_type": "code",
   "source": "df.head()",
   "id": "9e1505b6abefa424",
   "outputs": [
    {
     "data": {
      "text/plain": [
       "   Global_active_power  Global_reactive_power  Voltage  Global_intensity  \\\n",
       "0                4.216                  0.418   234.84              18.4   \n",
       "1                5.360                  0.436   233.63              23.0   \n",
       "2                5.374                  0.498   233.29              23.0   \n",
       "3                5.388                  0.502   233.74              23.0   \n",
       "4                3.666                  0.528   235.68              15.8   \n",
       "\n",
       "   Sub_metering_1  Sub_metering_2  Sub_metering_3            datetime  \\\n",
       "0             0.0             1.0            17.0 2006-12-16 17:24:00   \n",
       "1             0.0             1.0            16.0 2006-12-16 17:25:00   \n",
       "2             0.0             2.0            17.0 2006-12-16 17:26:00   \n",
       "3             0.0             1.0            17.0 2006-12-16 17:27:00   \n",
       "4             0.0             1.0            17.0 2006-12-16 17:28:00   \n",
       "\n",
       "       power  \n",
       "0  52.266667  \n",
       "1  72.333333  \n",
       "2  70.566667  \n",
       "3  71.800000  \n",
       "4  43.100000  "
      ],
      "text/html": [
       "<div>\n",
       "<style scoped>\n",
       "    .dataframe tbody tr th:only-of-type {\n",
       "        vertical-align: middle;\n",
       "    }\n",
       "\n",
       "    .dataframe tbody tr th {\n",
       "        vertical-align: top;\n",
       "    }\n",
       "\n",
       "    .dataframe thead th {\n",
       "        text-align: right;\n",
       "    }\n",
       "</style>\n",
       "<table border=\"1\" class=\"dataframe\">\n",
       "  <thead>\n",
       "    <tr style=\"text-align: right;\">\n",
       "      <th></th>\n",
       "      <th>Global_active_power</th>\n",
       "      <th>Global_reactive_power</th>\n",
       "      <th>Voltage</th>\n",
       "      <th>Global_intensity</th>\n",
       "      <th>Sub_metering_1</th>\n",
       "      <th>Sub_metering_2</th>\n",
       "      <th>Sub_metering_3</th>\n",
       "      <th>datetime</th>\n",
       "      <th>power</th>\n",
       "    </tr>\n",
       "  </thead>\n",
       "  <tbody>\n",
       "    <tr>\n",
       "      <th>0</th>\n",
       "      <td>4.216</td>\n",
       "      <td>0.418</td>\n",
       "      <td>234.84</td>\n",
       "      <td>18.4</td>\n",
       "      <td>0.0</td>\n",
       "      <td>1.0</td>\n",
       "      <td>17.0</td>\n",
       "      <td>2006-12-16 17:24:00</td>\n",
       "      <td>52.266667</td>\n",
       "    </tr>\n",
       "    <tr>\n",
       "      <th>1</th>\n",
       "      <td>5.360</td>\n",
       "      <td>0.436</td>\n",
       "      <td>233.63</td>\n",
       "      <td>23.0</td>\n",
       "      <td>0.0</td>\n",
       "      <td>1.0</td>\n",
       "      <td>16.0</td>\n",
       "      <td>2006-12-16 17:25:00</td>\n",
       "      <td>72.333333</td>\n",
       "    </tr>\n",
       "    <tr>\n",
       "      <th>2</th>\n",
       "      <td>5.374</td>\n",
       "      <td>0.498</td>\n",
       "      <td>233.29</td>\n",
       "      <td>23.0</td>\n",
       "      <td>0.0</td>\n",
       "      <td>2.0</td>\n",
       "      <td>17.0</td>\n",
       "      <td>2006-12-16 17:26:00</td>\n",
       "      <td>70.566667</td>\n",
       "    </tr>\n",
       "    <tr>\n",
       "      <th>3</th>\n",
       "      <td>5.388</td>\n",
       "      <td>0.502</td>\n",
       "      <td>233.74</td>\n",
       "      <td>23.0</td>\n",
       "      <td>0.0</td>\n",
       "      <td>1.0</td>\n",
       "      <td>17.0</td>\n",
       "      <td>2006-12-16 17:27:00</td>\n",
       "      <td>71.800000</td>\n",
       "    </tr>\n",
       "    <tr>\n",
       "      <th>4</th>\n",
       "      <td>3.666</td>\n",
       "      <td>0.528</td>\n",
       "      <td>235.68</td>\n",
       "      <td>15.8</td>\n",
       "      <td>0.0</td>\n",
       "      <td>1.0</td>\n",
       "      <td>17.0</td>\n",
       "      <td>2006-12-16 17:28:00</td>\n",
       "      <td>43.100000</td>\n",
       "    </tr>\n",
       "  </tbody>\n",
       "</table>\n",
       "</div>"
      ]
     },
     "execution_count": 27,
     "metadata": {},
     "output_type": "execute_result"
    }
   ],
   "execution_count": 27
  },
  {
   "metadata": {},
   "cell_type": "markdown",
   "source": "---",
   "id": "1604585dce16f113"
  },
  {
   "cell_type": "markdown",
   "metadata": {},
   "source": [
    "## Missing values\n",
    "Find out if there are weird of missing values in the data. Try to identify the rows and columns and answer the following questions.\n",
    "- are there any missing values in the data set?\n",
    "- if so, which column(s) contain missing values?\n",
    "- if there are any missing values, extract the rows and the number of rows that contain missing values\n",
    "- What would be a good way to deal with the missing values?\n",
    "- Use your prefered approach to deal with the missing values. Validate if there are any missing values left in your data "
   ],
   "id": "bcb21ce74eda60d7"
  },
  {
   "cell_type": "code",
   "metadata": {
    "ExecuteTime": {
     "end_time": "2025-05-26T17:30:13.606621Z",
     "start_time": "2025-05-26T17:30:13.597091Z"
    }
   },
   "source": [
    "df.isna().any()\n",
    "\n",
    "# It seems that there are missing values in all columns except the datetime"
   ],
   "id": "a1e7f07256f5967",
   "outputs": [
    {
     "data": {
      "text/plain": [
       "Global_active_power       True\n",
       "Global_reactive_power     True\n",
       "Voltage                   True\n",
       "Global_intensity          True\n",
       "Sub_metering_1            True\n",
       "Sub_metering_2            True\n",
       "Sub_metering_3            True\n",
       "datetime                 False\n",
       "power                     True\n",
       "dtype: bool"
      ]
     },
     "execution_count": 28,
     "metadata": {},
     "output_type": "execute_result"
    }
   ],
   "execution_count": 28
  },
  {
   "metadata": {
    "ExecuteTime": {
     "end_time": "2025-05-26T17:31:37.758188Z",
     "start_time": "2025-05-26T17:31:37.738141Z"
    }
   },
   "cell_type": "code",
   "source": [
    "df[df.isna().any(axis=1)]\n",
    "\n",
    "# The isna().any() function can be used as a filter"
   ],
   "id": "6a7d859123fd35b8",
   "outputs": [
    {
     "data": {
      "text/plain": [
       "         Global_active_power  Global_reactive_power  Voltage  \\\n",
       "6839                     NaN                    NaN      NaN   \n",
       "6840                     NaN                    NaN      NaN   \n",
       "19724                    NaN                    NaN      NaN   \n",
       "19725                    NaN                    NaN      NaN   \n",
       "41832                    NaN                    NaN      NaN   \n",
       "...                      ...                    ...      ...   \n",
       "1990185                  NaN                    NaN      NaN   \n",
       "1990186                  NaN                    NaN      NaN   \n",
       "1990187                  NaN                    NaN      NaN   \n",
       "1990188                  NaN                    NaN      NaN   \n",
       "2027411                  NaN                    NaN      NaN   \n",
       "\n",
       "         Global_intensity  Sub_metering_1  Sub_metering_2  Sub_metering_3  \\\n",
       "6839                  NaN             NaN             NaN             NaN   \n",
       "6840                  NaN             NaN             NaN             NaN   \n",
       "19724                 NaN             NaN             NaN             NaN   \n",
       "19725                 NaN             NaN             NaN             NaN   \n",
       "41832                 NaN             NaN             NaN             NaN   \n",
       "...                   ...             ...             ...             ...   \n",
       "1990185               NaN             NaN             NaN             NaN   \n",
       "1990186               NaN             NaN             NaN             NaN   \n",
       "1990187               NaN             NaN             NaN             NaN   \n",
       "1990188               NaN             NaN             NaN             NaN   \n",
       "2027411               NaN             NaN             NaN             NaN   \n",
       "\n",
       "                   datetime  power  \n",
       "6839    2006-12-21 11:23:00    NaN  \n",
       "6840    2006-12-21 11:24:00    NaN  \n",
       "19724   2006-12-30 10:08:00    NaN  \n",
       "19725   2006-12-30 10:09:00    NaN  \n",
       "41832   2007-01-14 18:36:00    NaN  \n",
       "...                     ...    ...  \n",
       "1990185 2010-09-28 19:09:00    NaN  \n",
       "1990186 2010-09-28 19:10:00    NaN  \n",
       "1990187 2010-09-28 19:11:00    NaN  \n",
       "1990188 2010-09-28 19:12:00    NaN  \n",
       "2027411 2010-10-24 15:35:00    NaN  \n",
       "\n",
       "[25979 rows x 9 columns]"
      ],
      "text/html": [
       "<div>\n",
       "<style scoped>\n",
       "    .dataframe tbody tr th:only-of-type {\n",
       "        vertical-align: middle;\n",
       "    }\n",
       "\n",
       "    .dataframe tbody tr th {\n",
       "        vertical-align: top;\n",
       "    }\n",
       "\n",
       "    .dataframe thead th {\n",
       "        text-align: right;\n",
       "    }\n",
       "</style>\n",
       "<table border=\"1\" class=\"dataframe\">\n",
       "  <thead>\n",
       "    <tr style=\"text-align: right;\">\n",
       "      <th></th>\n",
       "      <th>Global_active_power</th>\n",
       "      <th>Global_reactive_power</th>\n",
       "      <th>Voltage</th>\n",
       "      <th>Global_intensity</th>\n",
       "      <th>Sub_metering_1</th>\n",
       "      <th>Sub_metering_2</th>\n",
       "      <th>Sub_metering_3</th>\n",
       "      <th>datetime</th>\n",
       "      <th>power</th>\n",
       "    </tr>\n",
       "  </thead>\n",
       "  <tbody>\n",
       "    <tr>\n",
       "      <th>6839</th>\n",
       "      <td>NaN</td>\n",
       "      <td>NaN</td>\n",
       "      <td>NaN</td>\n",
       "      <td>NaN</td>\n",
       "      <td>NaN</td>\n",
       "      <td>NaN</td>\n",
       "      <td>NaN</td>\n",
       "      <td>2006-12-21 11:23:00</td>\n",
       "      <td>NaN</td>\n",
       "    </tr>\n",
       "    <tr>\n",
       "      <th>6840</th>\n",
       "      <td>NaN</td>\n",
       "      <td>NaN</td>\n",
       "      <td>NaN</td>\n",
       "      <td>NaN</td>\n",
       "      <td>NaN</td>\n",
       "      <td>NaN</td>\n",
       "      <td>NaN</td>\n",
       "      <td>2006-12-21 11:24:00</td>\n",
       "      <td>NaN</td>\n",
       "    </tr>\n",
       "    <tr>\n",
       "      <th>19724</th>\n",
       "      <td>NaN</td>\n",
       "      <td>NaN</td>\n",
       "      <td>NaN</td>\n",
       "      <td>NaN</td>\n",
       "      <td>NaN</td>\n",
       "      <td>NaN</td>\n",
       "      <td>NaN</td>\n",
       "      <td>2006-12-30 10:08:00</td>\n",
       "      <td>NaN</td>\n",
       "    </tr>\n",
       "    <tr>\n",
       "      <th>19725</th>\n",
       "      <td>NaN</td>\n",
       "      <td>NaN</td>\n",
       "      <td>NaN</td>\n",
       "      <td>NaN</td>\n",
       "      <td>NaN</td>\n",
       "      <td>NaN</td>\n",
       "      <td>NaN</td>\n",
       "      <td>2006-12-30 10:09:00</td>\n",
       "      <td>NaN</td>\n",
       "    </tr>\n",
       "    <tr>\n",
       "      <th>41832</th>\n",
       "      <td>NaN</td>\n",
       "      <td>NaN</td>\n",
       "      <td>NaN</td>\n",
       "      <td>NaN</td>\n",
       "      <td>NaN</td>\n",
       "      <td>NaN</td>\n",
       "      <td>NaN</td>\n",
       "      <td>2007-01-14 18:36:00</td>\n",
       "      <td>NaN</td>\n",
       "    </tr>\n",
       "    <tr>\n",
       "      <th>...</th>\n",
       "      <td>...</td>\n",
       "      <td>...</td>\n",
       "      <td>...</td>\n",
       "      <td>...</td>\n",
       "      <td>...</td>\n",
       "      <td>...</td>\n",
       "      <td>...</td>\n",
       "      <td>...</td>\n",
       "      <td>...</td>\n",
       "    </tr>\n",
       "    <tr>\n",
       "      <th>1990185</th>\n",
       "      <td>NaN</td>\n",
       "      <td>NaN</td>\n",
       "      <td>NaN</td>\n",
       "      <td>NaN</td>\n",
       "      <td>NaN</td>\n",
       "      <td>NaN</td>\n",
       "      <td>NaN</td>\n",
       "      <td>2010-09-28 19:09:00</td>\n",
       "      <td>NaN</td>\n",
       "    </tr>\n",
       "    <tr>\n",
       "      <th>1990186</th>\n",
       "      <td>NaN</td>\n",
       "      <td>NaN</td>\n",
       "      <td>NaN</td>\n",
       "      <td>NaN</td>\n",
       "      <td>NaN</td>\n",
       "      <td>NaN</td>\n",
       "      <td>NaN</td>\n",
       "      <td>2010-09-28 19:10:00</td>\n",
       "      <td>NaN</td>\n",
       "    </tr>\n",
       "    <tr>\n",
       "      <th>1990187</th>\n",
       "      <td>NaN</td>\n",
       "      <td>NaN</td>\n",
       "      <td>NaN</td>\n",
       "      <td>NaN</td>\n",
       "      <td>NaN</td>\n",
       "      <td>NaN</td>\n",
       "      <td>NaN</td>\n",
       "      <td>2010-09-28 19:11:00</td>\n",
       "      <td>NaN</td>\n",
       "    </tr>\n",
       "    <tr>\n",
       "      <th>1990188</th>\n",
       "      <td>NaN</td>\n",
       "      <td>NaN</td>\n",
       "      <td>NaN</td>\n",
       "      <td>NaN</td>\n",
       "      <td>NaN</td>\n",
       "      <td>NaN</td>\n",
       "      <td>NaN</td>\n",
       "      <td>2010-09-28 19:12:00</td>\n",
       "      <td>NaN</td>\n",
       "    </tr>\n",
       "    <tr>\n",
       "      <th>2027411</th>\n",
       "      <td>NaN</td>\n",
       "      <td>NaN</td>\n",
       "      <td>NaN</td>\n",
       "      <td>NaN</td>\n",
       "      <td>NaN</td>\n",
       "      <td>NaN</td>\n",
       "      <td>NaN</td>\n",
       "      <td>2010-10-24 15:35:00</td>\n",
       "      <td>NaN</td>\n",
       "    </tr>\n",
       "  </tbody>\n",
       "</table>\n",
       "<p>25979 rows × 9 columns</p>\n",
       "</div>"
      ]
     },
     "execution_count": 30,
     "metadata": {},
     "output_type": "execute_result"
    }
   ],
   "execution_count": 30
  },
  {
   "metadata": {
    "ExecuteTime": {
     "end_time": "2025-05-26T17:33:49.366587Z",
     "start_time": "2025-05-26T17:33:49.303681Z"
    }
   },
   "cell_type": "code",
   "source": [
    "# Since all these values are on a very low timeframe (minutes) and we have a lot of data, we can choose to simply drop the data.\n",
    "df.dropna(how=\"any\", inplace=True)"
   ],
   "id": "8df1c472a61fbf48",
   "outputs": [],
   "execution_count": 32
  },
  {
   "metadata": {
    "ExecuteTime": {
     "end_time": "2025-05-26T17:33:58.811536Z",
     "start_time": "2025-05-26T17:33:58.795839Z"
    }
   },
   "cell_type": "code",
   "source": "df.isna().any()",
   "id": "7d27a03717549d2",
   "outputs": [
    {
     "data": {
      "text/plain": [
       "Global_active_power      False\n",
       "Global_reactive_power    False\n",
       "Voltage                  False\n",
       "Global_intensity         False\n",
       "Sub_metering_1           False\n",
       "Sub_metering_2           False\n",
       "Sub_metering_3           False\n",
       "datetime                 False\n",
       "power                    False\n",
       "dtype: bool"
      ]
     },
     "execution_count": 34,
     "metadata": {},
     "output_type": "execute_result"
    }
   ],
   "execution_count": 34
  },
  {
   "metadata": {
    "ExecuteTime": {
     "end_time": "2025-05-26T17:34:01.615598Z",
     "start_time": "2025-05-26T17:34:01.607307Z"
    }
   },
   "cell_type": "code",
   "source": "df",
   "id": "cf45594a095a854",
   "outputs": [
    {
     "data": {
      "text/plain": [
       "         Global_active_power  Global_reactive_power  Voltage  \\\n",
       "0                      4.216                  0.418   234.84   \n",
       "1                      5.360                  0.436   233.63   \n",
       "2                      5.374                  0.498   233.29   \n",
       "3                      5.388                  0.502   233.74   \n",
       "4                      3.666                  0.528   235.68   \n",
       "...                      ...                    ...      ...   \n",
       "2075254                0.946                  0.000   240.43   \n",
       "2075255                0.944                  0.000   240.00   \n",
       "2075256                0.938                  0.000   239.82   \n",
       "2075257                0.934                  0.000   239.70   \n",
       "2075258                0.932                  0.000   239.55   \n",
       "\n",
       "         Global_intensity  Sub_metering_1  Sub_metering_2  Sub_metering_3  \\\n",
       "0                    18.4             0.0             1.0            17.0   \n",
       "1                    23.0             0.0             1.0            16.0   \n",
       "2                    23.0             0.0             2.0            17.0   \n",
       "3                    23.0             0.0             1.0            17.0   \n",
       "4                    15.8             0.0             1.0            17.0   \n",
       "...                   ...             ...             ...             ...   \n",
       "2075254               4.0             0.0             0.0             0.0   \n",
       "2075255               4.0             0.0             0.0             0.0   \n",
       "2075256               3.8             0.0             0.0             0.0   \n",
       "2075257               3.8             0.0             0.0             0.0   \n",
       "2075258               3.8             0.0             0.0             0.0   \n",
       "\n",
       "                   datetime      power  \n",
       "0       2006-12-16 17:24:00  52.266667  \n",
       "1       2006-12-16 17:25:00  72.333333  \n",
       "2       2006-12-16 17:26:00  70.566667  \n",
       "3       2006-12-16 17:27:00  71.800000  \n",
       "4       2006-12-16 17:28:00  43.100000  \n",
       "...                     ...        ...  \n",
       "2075254 2010-11-26 20:58:00  15.766667  \n",
       "2075255 2010-11-26 20:59:00  15.733333  \n",
       "2075256 2010-11-26 21:00:00  15.633333  \n",
       "2075257 2010-11-26 21:01:00  15.566667  \n",
       "2075258 2010-11-26 21:02:00  15.533333  \n",
       "\n",
       "[2049280 rows x 9 columns]"
      ],
      "text/html": [
       "<div>\n",
       "<style scoped>\n",
       "    .dataframe tbody tr th:only-of-type {\n",
       "        vertical-align: middle;\n",
       "    }\n",
       "\n",
       "    .dataframe tbody tr th {\n",
       "        vertical-align: top;\n",
       "    }\n",
       "\n",
       "    .dataframe thead th {\n",
       "        text-align: right;\n",
       "    }\n",
       "</style>\n",
       "<table border=\"1\" class=\"dataframe\">\n",
       "  <thead>\n",
       "    <tr style=\"text-align: right;\">\n",
       "      <th></th>\n",
       "      <th>Global_active_power</th>\n",
       "      <th>Global_reactive_power</th>\n",
       "      <th>Voltage</th>\n",
       "      <th>Global_intensity</th>\n",
       "      <th>Sub_metering_1</th>\n",
       "      <th>Sub_metering_2</th>\n",
       "      <th>Sub_metering_3</th>\n",
       "      <th>datetime</th>\n",
       "      <th>power</th>\n",
       "    </tr>\n",
       "  </thead>\n",
       "  <tbody>\n",
       "    <tr>\n",
       "      <th>0</th>\n",
       "      <td>4.216</td>\n",
       "      <td>0.418</td>\n",
       "      <td>234.84</td>\n",
       "      <td>18.4</td>\n",
       "      <td>0.0</td>\n",
       "      <td>1.0</td>\n",
       "      <td>17.0</td>\n",
       "      <td>2006-12-16 17:24:00</td>\n",
       "      <td>52.266667</td>\n",
       "    </tr>\n",
       "    <tr>\n",
       "      <th>1</th>\n",
       "      <td>5.360</td>\n",
       "      <td>0.436</td>\n",
       "      <td>233.63</td>\n",
       "      <td>23.0</td>\n",
       "      <td>0.0</td>\n",
       "      <td>1.0</td>\n",
       "      <td>16.0</td>\n",
       "      <td>2006-12-16 17:25:00</td>\n",
       "      <td>72.333333</td>\n",
       "    </tr>\n",
       "    <tr>\n",
       "      <th>2</th>\n",
       "      <td>5.374</td>\n",
       "      <td>0.498</td>\n",
       "      <td>233.29</td>\n",
       "      <td>23.0</td>\n",
       "      <td>0.0</td>\n",
       "      <td>2.0</td>\n",
       "      <td>17.0</td>\n",
       "      <td>2006-12-16 17:26:00</td>\n",
       "      <td>70.566667</td>\n",
       "    </tr>\n",
       "    <tr>\n",
       "      <th>3</th>\n",
       "      <td>5.388</td>\n",
       "      <td>0.502</td>\n",
       "      <td>233.74</td>\n",
       "      <td>23.0</td>\n",
       "      <td>0.0</td>\n",
       "      <td>1.0</td>\n",
       "      <td>17.0</td>\n",
       "      <td>2006-12-16 17:27:00</td>\n",
       "      <td>71.800000</td>\n",
       "    </tr>\n",
       "    <tr>\n",
       "      <th>4</th>\n",
       "      <td>3.666</td>\n",
       "      <td>0.528</td>\n",
       "      <td>235.68</td>\n",
       "      <td>15.8</td>\n",
       "      <td>0.0</td>\n",
       "      <td>1.0</td>\n",
       "      <td>17.0</td>\n",
       "      <td>2006-12-16 17:28:00</td>\n",
       "      <td>43.100000</td>\n",
       "    </tr>\n",
       "    <tr>\n",
       "      <th>...</th>\n",
       "      <td>...</td>\n",
       "      <td>...</td>\n",
       "      <td>...</td>\n",
       "      <td>...</td>\n",
       "      <td>...</td>\n",
       "      <td>...</td>\n",
       "      <td>...</td>\n",
       "      <td>...</td>\n",
       "      <td>...</td>\n",
       "    </tr>\n",
       "    <tr>\n",
       "      <th>2075254</th>\n",
       "      <td>0.946</td>\n",
       "      <td>0.000</td>\n",
       "      <td>240.43</td>\n",
       "      <td>4.0</td>\n",
       "      <td>0.0</td>\n",
       "      <td>0.0</td>\n",
       "      <td>0.0</td>\n",
       "      <td>2010-11-26 20:58:00</td>\n",
       "      <td>15.766667</td>\n",
       "    </tr>\n",
       "    <tr>\n",
       "      <th>2075255</th>\n",
       "      <td>0.944</td>\n",
       "      <td>0.000</td>\n",
       "      <td>240.00</td>\n",
       "      <td>4.0</td>\n",
       "      <td>0.0</td>\n",
       "      <td>0.0</td>\n",
       "      <td>0.0</td>\n",
       "      <td>2010-11-26 20:59:00</td>\n",
       "      <td>15.733333</td>\n",
       "    </tr>\n",
       "    <tr>\n",
       "      <th>2075256</th>\n",
       "      <td>0.938</td>\n",
       "      <td>0.000</td>\n",
       "      <td>239.82</td>\n",
       "      <td>3.8</td>\n",
       "      <td>0.0</td>\n",
       "      <td>0.0</td>\n",
       "      <td>0.0</td>\n",
       "      <td>2010-11-26 21:00:00</td>\n",
       "      <td>15.633333</td>\n",
       "    </tr>\n",
       "    <tr>\n",
       "      <th>2075257</th>\n",
       "      <td>0.934</td>\n",
       "      <td>0.000</td>\n",
       "      <td>239.70</td>\n",
       "      <td>3.8</td>\n",
       "      <td>0.0</td>\n",
       "      <td>0.0</td>\n",
       "      <td>0.0</td>\n",
       "      <td>2010-11-26 21:01:00</td>\n",
       "      <td>15.566667</td>\n",
       "    </tr>\n",
       "    <tr>\n",
       "      <th>2075258</th>\n",
       "      <td>0.932</td>\n",
       "      <td>0.000</td>\n",
       "      <td>239.55</td>\n",
       "      <td>3.8</td>\n",
       "      <td>0.0</td>\n",
       "      <td>0.0</td>\n",
       "      <td>0.0</td>\n",
       "      <td>2010-11-26 21:02:00</td>\n",
       "      <td>15.533333</td>\n",
       "    </tr>\n",
       "  </tbody>\n",
       "</table>\n",
       "<p>2049280 rows × 9 columns</p>\n",
       "</div>"
      ]
     },
     "execution_count": 35,
     "metadata": {},
     "output_type": "execute_result"
    }
   ],
   "execution_count": 35
  },
  {
   "cell_type": "markdown",
   "metadata": {},
   "source": [
    "---"
   ],
   "id": "853ffa277f6631a0"
  },
  {
   "cell_type": "markdown",
   "metadata": {},
   "source": [
    "# Creating a timeseries\n",
    "In this section we'll combine some data wrangling with data exploration. \n",
    "- The data contains a timeseries, however the current index of the dataframe does not really show this. Change the index to our newly created datetime column so that we end up with a datetime index."
   ],
   "id": "5311bf627a3242"
  },
  {
   "cell_type": "code",
   "metadata": {
    "ExecuteTime": {
     "end_time": "2025-05-26T17:34:28.630713Z",
     "start_time": "2025-05-26T17:34:28.571838Z"
    }
   },
   "source": "df = df.set_index(\"datetime\")",
   "id": "dc74d96cab766825",
   "outputs": [],
   "execution_count": 36
  },
  {
   "metadata": {
    "ExecuteTime": {
     "end_time": "2025-05-26T17:34:43.597752Z",
     "start_time": "2025-05-26T17:34:43.588927Z"
    }
   },
   "cell_type": "code",
   "source": "df.index",
   "id": "9b95e963b5a5d58c",
   "outputs": [
    {
     "data": {
      "text/plain": [
       "DatetimeIndex(['2006-12-16 17:24:00', '2006-12-16 17:25:00',\n",
       "               '2006-12-16 17:26:00', '2006-12-16 17:27:00',\n",
       "               '2006-12-16 17:28:00', '2006-12-16 17:29:00',\n",
       "               '2006-12-16 17:30:00', '2006-12-16 17:31:00',\n",
       "               '2006-12-16 17:32:00', '2006-12-16 17:33:00',\n",
       "               ...\n",
       "               '2010-11-26 20:53:00', '2010-11-26 20:54:00',\n",
       "               '2010-11-26 20:55:00', '2010-11-26 20:56:00',\n",
       "               '2010-11-26 20:57:00', '2010-11-26 20:58:00',\n",
       "               '2010-11-26 20:59:00', '2010-11-26 21:00:00',\n",
       "               '2010-11-26 21:01:00', '2010-11-26 21:02:00'],\n",
       "              dtype='datetime64[ns]', name='datetime', length=2049280, freq=None)"
      ]
     },
     "execution_count": 39,
     "metadata": {},
     "output_type": "execute_result"
    }
   ],
   "execution_count": 39
  },
  {
   "cell_type": "markdown",
   "metadata": {},
   "source": [
    "## Plotting\n",
    "- Having a dataframe with a timeseries index allows us to some funky tricks \n",
    "    - Plot the `power` column, is this useful?\n",
    "    - Create the same plot on the following aggregation levels:\n",
    "        - Mean per year\n",
    "        - Mean per 3 months\n",
    "        - Mean per week\n",
    "        - Mean per week and median per week\n",
    "    - Explore the use of `transform` on resampled data. What is the difference with running a normal aggregation function such as `.mean()` on resampled data? Show the differences below.\n",
    "    - When would you `transform`?    "
   ],
   "id": "24019b195d8509bb"
  },
  {
   "cell_type": "code",
   "metadata": {
    "ExecuteTime": {
     "end_time": "2025-05-26T17:34:59.710394Z",
     "start_time": "2025-05-26T17:34:57.899447Z"
    }
   },
   "source": [
    "df[\"power\"].plot()\n",
    "\n",
    "# This plot is not super useful, it shows seasonality and some gaps"
   ],
   "id": "7b4d90e5843ea3d9",
   "outputs": [
    {
     "data": {
      "text/plain": [
       "<Axes: xlabel='datetime'>"
      ]
     },
     "execution_count": 40,
     "metadata": {},
     "output_type": "execute_result"
    },
    {
     "data": {
      "text/plain": [
       "<Figure size 640x480 with 1 Axes>"
      ],
      "image/png": "[encoded data removed]"
     },
     "metadata": {},
     "output_type": "display_data"
    }
   ],
   "execution_count": 40
  },
  {
   "metadata": {
    "ExecuteTime": {
     "end_time": "2025-05-26T17:36:13.110031Z",
     "start_time": "2025-05-26T17:36:13.023452Z"
    }
   },
   "cell_type": "code",
   "source": "df[\"power\"].resample(\"1YE\").mean().plot()",
   "id": "6f136fc71467610a",
   "outputs": [
    {
     "data": {
      "text/plain": [
       "<Axes: xlabel='datetime'>"
      ]
     },
     "execution_count": 44,
     "metadata": {},
     "output_type": "execute_result"
    },
    {
     "data": {
      "text/plain": [
       "<Figure size 640x480 with 1 Axes>"
      ],
      "image/png": "[encoded data removed]"
     },
     "metadata": {},
     "output_type": "display_data"
    }
   ],
   "execution_count": 44
  },
  {
   "metadata": {
    "ExecuteTime": {
     "end_time": "2025-05-26T17:36:23.244483Z",
     "start_time": "2025-05-26T17:36:23.130536Z"
    }
   },
   "cell_type": "code",
   "source": "df[\"power\"].resample(\"1W\").mean().plot()",
   "id": "82eec7819d74f1c7",
   "outputs": [
    {
     "data": {
      "text/plain": [
       "<Axes: xlabel='datetime'>"
      ]
     },
     "execution_count": 45,
     "metadata": {},
     "output_type": "execute_result"
    },
    {
     "data": {
      "text/plain": [
       "<Figure size 640x480 with 1 Axes>"
      ],
      "image/png": "[encoded data removed]"
     },
     "metadata": {},
     "output_type": "display_data"
    }
   ],
   "execution_count": 45
  },
  {
   "metadata": {
    "ExecuteTime": {
     "end_time": "2025-05-26T17:37:14.905518Z",
     "start_time": "2025-05-26T17:37:14.814620Z"
    }
   },
   "cell_type": "code",
   "source": "df[\"power\"].resample(\"3ME\").mean().plot()",
   "id": "84dc7d870661772e",
   "outputs": [
    {
     "data": {
      "text/plain": [
       "<Axes: xlabel='datetime'>"
      ]
     },
     "execution_count": 48,
     "metadata": {},
     "output_type": "execute_result"
    },
    {
     "data": {
      "text/plain": [
       "<Figure size 640x480 with 1 Axes>"
      ],
      "image/png": "[encoded data removed]"
     },
     "metadata": {},
     "output_type": "display_data"
    }
   ],
   "execution_count": 48
  },
  {
   "metadata": {
    "ExecuteTime": {
     "end_time": "2025-05-26T17:37:49.445338Z",
     "start_time": "2025-05-26T17:37:49.328144Z"
    }
   },
   "cell_type": "code",
   "source": "df[\"power\"].resample(\"1W\").agg(\"mean\", \"median\").plot()",
   "id": "d67a3b32c8ce6428",
   "outputs": [
    {
     "data": {
      "text/plain": [
       "<Axes: xlabel='datetime'>"
      ]
     },
     "execution_count": 50,
     "metadata": {},
     "output_type": "execute_result"
    },
    {
     "data": {
      "text/plain": [
       "<Figure size 640x480 with 1 Axes>"
      ],
      "image/png": "[encoded data removed]"
     },
     "metadata": {},
     "output_type": "display_data"
    }
   ],
   "execution_count": 50
  },
  {
   "cell_type": "markdown",
   "metadata": {},
   "source": [
    "## Creating helper functions\n",
    "Instead of changing our code every time, we can create a function that will return the plot(s) that we need. In addtion, creating a function allows you to test your code which a good software engineering practice. For more information on functions, see this [link](https://www.tutorialspoint.com/python/python_functions.htm). Write a function that can do the following:\n",
    "- The function can take in a dataframe, one or more column names, the aggregation level and one or more aggregation metrics (for instance mean or sum). \n",
    "- The function should output the graph"
   ],
   "id": "79a9b160ac61dc79"
  },
  {
   "cell_type": "code",
   "metadata": {
    "ExecuteTime": {
     "end_time": "2025-05-26T17:39:20.275251Z",
     "start_time": "2025-05-26T17:39:20.149180Z"
    }
   },
   "source": [
    "def plot_aggregated_data(df, aggregation_level, columns, aggregation_metrics):\n",
    "    df.resample(aggregation_level)[columns].agg(*aggregation_metrics).plot()\n",
    "\n",
    "plot_aggregated_data(df, \"1W\", [\"power\"], [\"mean\", \"median\"])"
   ],
   "id": "e0286732c888f6e7",
   "outputs": [
    {
     "data": {
      "text/plain": [
       "<Figure size 640x480 with 1 Axes>"
      ],
      "image/png": "[encoded data removed]"
     },
     "metadata": {},
     "output_type": "display_data"
    }
   ],
   "execution_count": 52
  },
  {
   "cell_type": "markdown",
   "metadata": {},
   "source": [
    "---"
   ],
   "id": "af54bf9fb68dc917"
  },
  {
   "cell_type": "markdown",
   "metadata": {},
   "source": [
    "# Assignment 1:\n",
    "Now that you've seen how to wrangle the data and create some plots, it's time to find the answer to the following questions:\n",
    "- Q1: Find the month with the most power consumption\n",
    "- Q2: Find the top three weeks with the most power consumption\n",
    "- Q3: What week had the largest difference between what was consumed at the most and the least? \n",
    "- Q4: What was the average power consumption on the weekends?\n",
    "        "
   ],
   "id": "988303a5ce50f3fd"
  },
  {
   "cell_type": "code",
   "metadata": {
    "ExecuteTime": {
     "end_time": "2025-05-26T17:40:06.962510Z",
     "start_time": "2025-05-26T17:40:06.935446Z"
    }
   },
   "source": [
    "# Q1: Use idxmax (index where value is max) to obtain the month\n",
    "df[\"power\"].resample(\"1ME\").max().idxmax()"
   ],
   "id": "357a52c05eff00a9",
   "outputs": [
    {
     "data": {
      "text/plain": [
       "Timestamp('2006-12-31 00:00:00')"
      ]
     },
     "execution_count": 55,
     "metadata": {},
     "output_type": "execute_result"
    }
   ],
   "execution_count": 55
  },
  {
   "metadata": {
    "ExecuteTime": {
     "end_time": "2025-05-26T17:40:58.777644Z",
     "start_time": "2025-05-26T17:40:58.746734Z"
    }
   },
   "cell_type": "code",
   "source": [
    "# Q2:\n",
    "df[\"power\"].resample(\"1W\").max().nlargest(3)"
   ],
   "id": "cf9e7e4b38a773f",
   "outputs": [
    {
     "data": {
      "text/plain": [
       "datetime\n",
       "2006-12-24    124.833333\n",
       "2007-02-18    122.166667\n",
       "2009-03-08    121.500000\n",
       "Name: power, dtype: float64"
      ]
     },
     "execution_count": 56,
     "metadata": {},
     "output_type": "execute_result"
    }
   ],
   "execution_count": 56
  },
  {
   "metadata": {
    "ExecuteTime": {
     "end_time": "2025-05-26T17:42:18.452066Z",
     "start_time": "2025-05-26T17:42:18.399970Z"
    }
   },
   "cell_type": "code",
   "source": [
    "# Q3:\n",
    "result = df[\"power\"].resample(\"1W\").max() - df[\"power\"].resample(\"1W\").min()\n",
    "result.nlargest(1)"
   ],
   "id": "a8249f07bf8eace3",
   "outputs": [
    {
     "data": {
      "text/plain": [
       "datetime\n",
       "2006-12-24    123.8\n",
       "Freq: W-SUN, Name: power, dtype: float64"
      ]
     },
     "execution_count": 57,
     "metadata": {},
     "output_type": "execute_result"
    }
   ],
   "execution_count": 57
  },
  {
   "metadata": {
    "ExecuteTime": {
     "end_time": "2025-05-26T17:44:15.112403Z",
     "start_time": "2025-05-26T17:44:14.964073Z"
    }
   },
   "cell_type": "code",
   "source": [
    "# You can obtain the actual week by changing the index to a period\n",
    "\n",
    "df_index_week = df.set_index(df.index.to_period(\"W\"))\n",
    "\n",
    "(df_index_week[\"power\"].resample(\"1W\").max() - df_index_week[\"power\"].resample(\"1W\").min()).nlargest(1)\n"
   ],
   "id": "e3aecfd0c373814a",
   "outputs": [
    {
     "name": "stderr",
     "output_type": "stream",
     "text": [
      "/var/folders/nn/sc3c7qzd06g1w5b6mz4ff9sh0000gn/T/ipykernel_26215/3575247062.py:5: FutureWarning: Resampling with a PeriodIndex is deprecated. Cast index to DatetimeIndex before resampling instead.\n",
      "  (df_index_week[\"power\"].resample(\"1W\").max() - df_index_week[\"power\"].resample(\"1W\").min()).nlargest(1)\n"
     ]
    },
    {
     "data": {
      "text/plain": [
       "datetime\n",
       "2006-12-18/2006-12-24    123.8\n",
       "Freq: W-SUN, Name: power, dtype: float64"
      ]
     },
     "execution_count": 58,
     "metadata": {},
     "output_type": "execute_result"
    }
   ],
   "execution_count": 58
  },
  {
   "cell_type": "markdown",
   "metadata": {},
   "source": [
    "---"
   ],
   "id": "d33c8d12587d890e"
  },
  {
   "cell_type": "markdown",
   "metadata": {},
   "source": [
    "# Storage\n",
    "In this last step, you're going to store the result of your dataset in `parquet` format. \n",
    "- What does this format do? What is the benefit of using this?\n",
    "- You'll need the data in the next exercise so make sure to store it on **day** level. "
   ],
   "id": "55944b0f84709ca"
  },
  {
   "cell_type": "code",
   "metadata": {},
   "source": [
    "!pip install fastparquet"
   ],
   "id": "7de9d7e75a65e1a4",
   "outputs": [],
   "execution_count": null
  },
  {
   "cell_type": "code",
   "execution_count": null,
   "metadata": {},
   "outputs": [],
   "source": "df[[\"power\"]].to_parquet('data/ex_1.parquet')",
   "id": "a2269f774604e83f"
  },
  {
   "cell_type": "markdown",
   "metadata": {},
   "source": [
    "---"
   ],
   "id": "d7daa48af8834bd0"
  }
 ],
 "metadata": {
  "kernelspec": {
   "display_name": "Python 3",
   "language": "python",
   "name": "python3"
  },
  "language_info": {
   "codemirror_mode": {
    "name": "ipython",
    "version": 3
   },
   "file_extension": ".py",
   "mimetype": "text/x-python",
   "name": "python",
   "nbconvert_exporter": "python",
   "pygments_lexer": "ipython3",
   "version": "3.8.5"
  }
 },
 "nbformat": 4,
 "nbformat_minor": 5
}
