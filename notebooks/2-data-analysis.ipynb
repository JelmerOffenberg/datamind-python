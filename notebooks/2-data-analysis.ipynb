{
 "cells": [
  {
   "cell_type": "markdown",
   "metadata": {},
   "source": [
    "# Welcome to Python for Data Science!\n",
    "Today we'll exploring the world of Pandas. We will be using a timeseries dataset from the UCI Machine Learning repository to learn to how to wrangle data and perform analysis. In the second half of the day you'll do some feature engineering and finally there will be room to build a small model to actually put your features to use!\n",
    "\n",
    "<img src=\"https://miro.medium.com/max/1400/1*1oVjIRY3Bnmbw-idCtg4BQ@2x.jpeg\" style=\"width: 60%;\"/>\n",
    "\n",
    "## In this part we'll cover the following topics:\n",
    "- Data ingestion\n",
    "- Data cleaning\n",
    "- Data exploration (specifically timeseries) \n",
    "- Storing your data (you'll need it in the next part). "
   ],
   "id": "9336a81ae2aa96c3"
  },
  {
   "cell_type": "markdown",
   "metadata": {},
   "source": [
    "## Downloading data from UCI\n",
    "Use the extract method that is applicable for you. If you have any issues with these steps, please ask for help."
   ],
   "id": "cc105c5a8070fabc"
  },
  {
   "cell_type": "code",
   "execution_count": null,
   "metadata": {},
   "outputs": [],
   "source": [
    "! mkdir -p data && curl -L https://github.com/JelmerOffenberg/datamind-python/blob/master/data/dataset.zip?raw=true --output ../data/dataset.zip && unzip ../data/dataset.zip -d ../data && mv ../data/household_power_consumption.txt ../data/household_power_consumption.csv "
   ],
   "id": "d7045444f7c40656"
  },
  {
   "cell_type": "markdown",
   "metadata": {},
   "source": [
    "## Getting started\n",
    "First things first, import the following libraries: `pandas`, `matplotlib` and `numpy`"
   ],
   "id": "367eb4a8ab6f01dc"
  },
  {
   "cell_type": "code",
   "execution_count": null,
   "metadata": {},
   "outputs": [],
   "source": [
    "# Your solution"
   ],
   "id": "1aa5bc54a3ec11a3"
  },
  {
   "cell_type": "markdown",
   "metadata": {},
   "source": [
    "---"
   ],
   "id": "640ea2ca007403d2"
  },
  {
   "cell_type": "markdown",
   "metadata": {},
   "source": [
    "# Ingestion\n",
    "The first step in the data science process is data collection. In this section we'll load in some data. Information about the dataset that we'll be loading is located [here](https://archive.ics.uci.edu/ml/datasets/individual+household+electric+power+consumption). \n",
    "\n",
    "**Exercise:**\n",
    "* Load the power consumption dataset from the data folder\n",
    "* Inspect the top 5 rows\n",
    "* Check the data types of the dataframe and answer the following questions:\n",
    "    * What's wrong with the data types in the info panel?\n",
    "    * What data types would you expect for each column?\n",
    "    * Does it make sense to have date and time columns separated?\n",
    "    "
   ],
   "id": "7f12d1dd11d98a8b"
  },
  {
   "cell_type": "code",
   "execution_count": null,
   "metadata": {},
   "outputs": [],
   "source": [
    "# Your solution"
   ],
   "id": "74c6138464ed1c78"
  },
  {
   "cell_type": "markdown",
   "metadata": {},
   "source": [
    "---"
   ],
   "id": "97d036c401aaba66"
  },
  {
   "cell_type": "markdown",
   "metadata": {},
   "source": [
    "# Data cleaning\n",
    "In this section you're going to do some data cleaning. Since this is a timeseries dataset, you'll need to make it more usable before we can continue.\n",
    "- Add date and time columns together and make a single datetime variable. Verify that your new column has the right data type and is correct. The result should be a datetime64\\[ns\\] object.\n",
    "- Remove the date and time column from the dataset. \n",
    "- Have a look at our variable of interest; `Global_active_power`\n",
    "    - What data type was assigned by pandas to this variable? Does this make sense?\n",
    "    - Try casing the variable to the right data type, what do you see?\n",
    "    - Can you explain this behaviour?\n",
    "    - Fix the way you load data and rerun your code\n",
    "    - What change occurred with the data types?\n",
    "- If you read the dataset description in the previous step, it seems that we can construct a column with the total energy consumption based on the columns that are available. Do this and name this column `power`. \n",
    "\n",
    "    "
   ],
   "id": "4da0b971fdb66655"
  },
  {
   "cell_type": "code",
   "execution_count": null,
   "metadata": {},
   "outputs": [],
   "source": [
    "# Your solution"
   ],
   "id": "44f906f2aa2077b0"
  },
  {
   "cell_type": "markdown",
   "metadata": {},
   "source": [
    "## Missing values\n",
    "Find out if there are weird of missing values in the data. Try to identify the rows and columns and answer the following questions.\n",
    "- are there any missing values in the data set?\n",
    "- if so, which column(s) contain missing values?\n",
    "- if there are any missing values, extract the rows and the number of rows that contain missing values\n",
    "- What would be a good way to deal with the missing values?\n",
    "- Use your prefered approach to deal with the missing values. Validate if there are any missing values left in your data "
   ],
   "id": "bcb21ce74eda60d7"
  },
  {
   "cell_type": "code",
   "execution_count": null,
   "metadata": {},
   "outputs": [],
   "source": [
    "# Your solution"
   ],
   "id": "a1e7f07256f5967"
  },
  {
   "cell_type": "markdown",
   "metadata": {},
   "source": [
    "---"
   ],
   "id": "853ffa277f6631a0"
  },
  {
   "cell_type": "markdown",
   "metadata": {},
   "source": [
    "# Creating a timeseries\n",
    "In this section we'll combine some data wrangling with data exploration. \n",
    "- The data contains a timeseries, however the current index of the dataframe does not really show this. Change the index to our newly created datetime column so that we end up with a datetime index."
   ],
   "id": "5311bf627a3242"
  },
  {
   "cell_type": "code",
   "execution_count": null,
   "metadata": {},
   "outputs": [],
   "source": [
    "# Your solution"
   ],
   "id": "dc74d96cab766825"
  },
  {
   "cell_type": "markdown",
   "metadata": {},
   "source": [
    "## Plotting\n",
    "- Having a dataframe with a timeseries index allows us to some funky tricks \n",
    "    - Plot the `power` column, is this useful?\n",
    "    - Create the same plot on the following aggregation levels:\n",
    "        - Mean per year\n",
    "        - Mean per 3 months\n",
    "        - Mean per week\n",
    "        - Mean per week and median per week\n",
    "    - Explore the use of `transform` on resampled data. What is the difference with running a normal aggregation function such as `.mean()` on resampled data? Show the differences below.\n",
    "    - When would you `transform`?    "
   ],
   "id": "24019b195d8509bb"
  },
  {
   "cell_type": "code",
   "execution_count": null,
   "metadata": {},
   "outputs": [],
   "source": [
    "# Your solution"
   ],
   "id": "7b4d90e5843ea3d9"
  },
  {
   "cell_type": "markdown",
   "metadata": {},
   "source": [
    "## Creating helper functions\n",
    "Instead of changing our code every time, we can create a function that will return the plot(s) that we need. In addtion, creating a function allows you to test your code which a good software engineering practice. For more information on functions, see this [link](https://www.tutorialspoint.com/python/python_functions.htm). Write a function that can do the following:\n",
    "- The function can take in a dataframe, one or more column names, the aggregation level and one or more aggregation metrics (for instance mean or sum). \n",
    "- The function should output the graph"
   ],
   "id": "79a9b160ac61dc79"
  },
  {
   "cell_type": "code",
   "execution_count": null,
   "metadata": {},
   "outputs": [],
   "source": [
    "# Your solution"
   ],
   "id": "e0286732c888f6e7"
  },
  {
   "cell_type": "markdown",
   "metadata": {},
   "source": [
    "---"
   ],
   "id": "af54bf9fb68dc917"
  },
  {
   "cell_type": "markdown",
   "metadata": {},
   "source": [
    "# Assignment 1:\n",
    "Now that you've seen how to wrangle the data and create some plots, it's time to find the answer to the following questions:\n",
    "- Q1: Find the month with the most power consumption\n",
    "- Q2: Find the top three weeks with the most power consumption\n",
    "- Q3: What week had the largest difference between what was consumed at the most and the least? \n",
    "- Q4: What was the average power consumption on the weekends?\n",
    "        "
   ],
   "id": "988303a5ce50f3fd"
  },
  {
   "cell_type": "code",
   "execution_count": null,
   "metadata": {},
   "outputs": [],
   "source": [
    "# Your solution"
   ],
   "id": "357a52c05eff00a9"
  },
  {
   "cell_type": "markdown",
   "metadata": {},
   "source": [
    "---"
   ],
   "id": "d33c8d12587d890e"
  },
  {
   "cell_type": "markdown",
   "metadata": {},
   "source": [
    "# Storage\n",
    "In this last step, you're going to store the result of your dataset in `parquet` format. \n",
    "- What does this format do? What is the benefit of using this?\n",
    "- You'll need the data in the next exercise so make sure to store it on **day** level. "
   ],
   "id": "55944b0f84709ca"
  },
  {
   "cell_type": "code",
   "execution_count": null,
   "metadata": {},
   "outputs": [],
   "source": [
    "!pip install fastparquet"
   ],
   "id": "7de9d7e75a65e1a4"
  },
  {
   "cell_type": "code",
   "execution_count": null,
   "metadata": {},
   "outputs": [],
   "source": [
    "# Your solution"
   ],
   "id": "a2269f774604e83f"
  },
  {
   "cell_type": "markdown",
   "metadata": {},
   "source": [
    "---"
   ],
   "id": "d7daa48af8834bd0"
  }
 ],
 "metadata": {
  "kernelspec": {
   "display_name": "Python 3",
   "language": "python",
   "name": "python3"
  },
  "language_info": {
   "codemirror_mode": {
    "name": "ipython",
    "version": 3
   },
   "file_extension": ".py",
   "mimetype": "text/x-python",
   "name": "python",
   "nbconvert_exporter": "python",
   "pygments_lexer": "ipython3",
   "version": "3.8.5"
  }
 },
 "nbformat": 4,
 "nbformat_minor": 5
}
