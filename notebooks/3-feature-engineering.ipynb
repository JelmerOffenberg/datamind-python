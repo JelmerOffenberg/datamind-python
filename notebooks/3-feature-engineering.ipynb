{
 "cells": [
  {
   "cell_type": "markdown",
   "metadata": {},
   "source": [
    "# Feature Engineering\n",
    "In this section you'll learn the following topics:\n",
    "* How to create features for timeseries data\n",
    "* How to build functions that can help you generate a ton of features with little code\n",
    "* How to make your functions testable so that you can guarantee expected behavior\n",
    "* Bonus: implement your own `scikit-learn` pipeline to do some data transformation"
   ],
   "id": "d72153553ba652f2"
  },
  {
   "cell_type": "markdown",
   "metadata": {},
   "source": [
    "---"
   ],
   "id": "88c52d72ec38e0be"
  },
  {
   "cell_type": "markdown",
   "metadata": {},
   "source": [
    "## Load your dataset\n",
    "We'll use the dataset from previous exercise, load the dataset in memory and call it `df`. If you have more than 2000 rows, go back and check if you wrote the output correctly.\n",
    "- Are the data types correct? If so, how come?"
   ],
   "id": "44ec1dc145d5bfb4"
  },
  {
   "cell_type": "code",
   "execution_count": null,
   "metadata": {},
   "outputs": [],
   "source": [
    "# Your solution"
   ],
   "id": "6a6981044429d96e"
  },
  {
   "cell_type": "markdown",
   "metadata": {},
   "source": [
    "---"
   ],
   "id": "cdbd05a0fa841aef"
  },
  {
   "cell_type": "markdown",
   "metadata": {},
   "source": [
    "# Create helper functions\n",
    "In this section you'll create helper functions that can generate a bunch of features for you. Since we're doing timeseries forecasting we are especially interested in features that are derived from the target variable and the time column."
   ],
   "id": "3a2e08089c30f3fc"
  },
  {
   "cell_type": "markdown",
   "metadata": {},
   "source": [
    "## Datetime features\n",
    "Create a function `create_datetime_features` that, takes in a dataframe with a datetime index and produces the following derived columns:\n",
    "- Day of week\n",
    "- Week\n",
    "- Month\n",
    "- Quarther\n",
    "- Year"
   ],
   "id": "db9d074dcff893ad"
  },
  {
   "cell_type": "code",
   "execution_count": null,
   "metadata": {},
   "outputs": [],
   "source": [
    "# Your solution"
   ],
   "id": "da1428fbdd8c4757"
  },
  {
   "cell_type": "code",
   "metadata": {
    "ExecuteTime": {
     "end_time": "2024-05-27T11:43:39.912245Z",
     "start_time": "2024-05-27T11:43:39.909926Z"
    }
   },
   "source": [
    "# Your solution"
   ],
   "id": "cd6e386e2da071db",
   "outputs": [],
   "execution_count": 1
  },
  {
   "cell_type": "markdown",
   "metadata": {},
   "source": [
    "---"
   ],
   "id": "930e00ed42185735"
  },
  {
   "cell_type": "markdown",
   "metadata": {},
   "source": [
    "# Windows and moving aggregates\n",
    "\n",
    "To have a better idea of the trend, we can make use of window functions. Essentially we'll compute a moving average over a period to filter out noise. Window functions perform calculations on a set of rows that are related together. But, unlike the aggregate functions, windowing functions do not collapse the result of the rows into a single value. Instead, all the rows maintain their original identity and the calculated result is returned for every row.\n",
    "\n",
    "- What kind of effect does the window size have?\n",
    "- What is the disadvantage of using a moving average?\n",
    "- Implement a 14 day moving average in pandas. Plot this together with the daily power consumption.\n",
    "- What choices do you need to make when creating a window function? There are three important components (not including the column choice). "
   ],
   "id": "63d372d9c9c6cc9b"
  },
  {
   "cell_type": "code",
   "execution_count": null,
   "metadata": {},
   "outputs": [],
   "source": [
    "# Your solution"
   ],
   "id": "8e7f6708bd79f965"
  },
  {
   "cell_type": "markdown",
   "metadata": {},
   "source": [
    "## Weighting datapoints\n",
    "One can imagine that more recent data can be more important than data points that are further back in time. What kind of alternative for the moving average can you think of?\n",
    "- Implement this in pandas\n",
    "- Add it to the plot\n",
    "- What difference do you see?"
   ],
   "id": "7f57000802e54f1f"
  },
  {
   "cell_type": "code",
   "execution_count": null,
   "metadata": {},
   "outputs": [],
   "source": [
    "# Your solution"
   ],
   "id": "373699a3c17d4d18"
  },
  {
   "cell_type": "markdown",
   "metadata": {},
   "source": [
    "## Expanding windows\n",
    "Investigate what expanding windows are in Pandas\n",
    "- When would you use something like this?\n",
    "- Can you implement an expanding window that computes the total daily power used?"
   ],
   "id": "aed654c62ef80d14"
  },
  {
   "cell_type": "code",
   "execution_count": null,
   "metadata": {},
   "outputs": [],
   "source": [
    "# Your solution"
   ],
   "id": "422f8c76b03de330"
  },
  {
   "cell_type": "markdown",
   "metadata": {},
   "source": [
    "---"
   ],
   "id": "85e77e9c3f8e7a97"
  },
  {
   "cell_type": "markdown",
   "metadata": {},
   "source": [
    "## Calculating lags as features\n",
    "In this section you'll compute a few features that are derived from the target variable column. Derived features can be a powerful thing in timeseries forecasting. I advise to try to write a function that can do the different computations for you. Making clever use of loops can save you a bunch of time. In addition, your code will be testable which makes it easier to bring something to production.\n",
    "\n",
    "We'll consider the following type of features:\n",
    "- Lags (values of previous day)\n",
    "- Windowed values (aggregated values over a certain period)\n",
    "\n",
    "Try to add the following features to your data frame, base the features on your `power` column:\n",
    "- Add lags for 1 to 14 days ago (14 columns)\n",
    "- Add windows for the mean, and variance with different timespans: 7, 14, 21, 28, 35 (10 columns). Make the input configurable.\n",
    "- Plot the result"
   ],
   "id": "65ff3dc420c93ce0"
  },
  {
   "cell_type": "code",
   "execution_count": null,
   "metadata": {},
   "outputs": [],
   "source": [
    "# Your solution"
   ],
   "id": "e52c607c8039f7a7"
  },
  {
   "cell_type": "markdown",
   "metadata": {},
   "source": [
    "## Missing values\n",
    "Adding these lags could introduce missing values, make sure to deal with these before you continue."
   ],
   "id": "d1d1ec9ccc30308e"
  },
  {
   "cell_type": "code",
   "execution_count": null,
   "metadata": {},
   "outputs": [],
   "source": [
    "# Your solution"
   ],
   "id": "bdcea4b22ce177bd"
  },
  {
   "cell_type": "markdown",
   "metadata": {},
   "source": [
    "---\n",
    "# End of training material\n",
    "\n",
    "---"
   ],
   "id": "81ececa395316f73"
  },
  {
   "cell_type": "markdown",
   "metadata": {},
   "source": [
    "## Bonus: Scikit-learn pipelines \n",
    "If creating the functions was straightforward and you feel up to a challenge, implement your feature creation as `scikit-learn` pipeline objects. `Scikit-learn` pipeline objects are a great way to chain together a bunch of operations that allow you to build a model pipeline with blocks. \n",
    "\n",
    "These blocks are testable and follow the `scikit-learn` style. Pipelines allow you to create a single pipeline object that can do your data preprocessing and model fitting in one go. Additionally, it's easy to swap out or change components in the pipeline."
   ],
   "id": "d516a873626f1025"
  },
  {
   "cell_type": "code",
   "execution_count": null,
   "metadata": {},
   "outputs": [],
   "source": [
    "# Your solution"
   ],
   "id": "e36681ca7f671d24"
  },
  {
   "cell_type": "markdown",
   "metadata": {},
   "source": [
    "---"
   ],
   "id": "e2108836a864389f"
  },
  {
   "cell_type": "markdown",
   "metadata": {},
   "source": [
    "## Other features\n",
    "Can you add other features that you think are useful for predicting the power usage? Perhaps something to do with holidays or season. Feel free to add a bunch of features, we'll be using them in the final part. :)"
   ],
   "id": "dae877be81dfd296"
  },
  {
   "cell_type": "code",
   "execution_count": null,
   "metadata": {},
   "outputs": [],
   "source": [
    "# Your solution"
   ],
   "id": "e3e6696f225be66f"
  },
  {
   "cell_type": "markdown",
   "metadata": {},
   "source": [
    "---"
   ],
   "id": "cc04a14cf4d7b97f"
  },
  {
   "cell_type": "markdown",
   "metadata": {},
   "source": [
    "# Store prepared data\n",
    "Store your prepared dataset as parquet. You'll need it in the next exercise."
   ],
   "id": "5c71ec94883d4bfa"
  },
  {
   "cell_type": "code",
   "execution_count": null,
   "metadata": {},
   "outputs": [],
   "source": [
    "# Your solution"
   ],
   "id": "e0f869e22b585c59"
  }
 ],
 "metadata": {
  "kernelspec": {
   "display_name": "Python 3 (ipykernel)",
   "language": "python",
   "name": "python3"
  },
  "language_info": {
   "codemirror_mode": {
    "name": "ipython",
    "version": 3
   },
   "file_extension": ".py",
   "mimetype": "text/x-python",
   "name": "python",
   "nbconvert_exporter": "python",
   "pygments_lexer": "ipython3",
   "version": "3.8.12"
  }
 },
 "nbformat": 4,
 "nbformat_minor": 5
}
