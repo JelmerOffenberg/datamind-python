{
 "cells": [
  {
   "cell_type": "markdown",
   "metadata": {},
   "source": [
    "# Part 3: Modeling\n",
    "In the previous two parts of the training you've worked on: data ingestion, data analysis and feature engineering. This last part is an open end exercise where you'll have a lot of freedom to explore your topics of interest.\n",
    "\n",
    "In this part you'll use the data with all the features that you've created in part 2. Use `scikit-learn` to try and model a baseline and linear regression or random forest model. You'll need to come up with a metric and evaluation strategy. This exercise has little constraints. You'll be provided with some hints for things to look at, but feel free to use different approaches. \n",
    "\n",
    "Below, we will set out the main sections that you'll need to deal with."
   ]
  },
  {
   "cell_type": "code",
   "execution_count": null,
   "metadata": {},
   "outputs": [],
   "source": [
    "# Import your dependencies"
   ]
  },
  {
   "cell_type": "markdown",
   "metadata": {},
   "source": [
    "---"
   ]
  },
  {
   "cell_type": "markdown",
   "metadata": {},
   "source": [
    "## Load your prepared dataset\n",
    "Make sure you saved the dataframe in which you created all the features. Load it in this step."
   ]
  },
  {
   "cell_type": "code",
   "execution_count": null,
   "metadata": {},
   "outputs": [],
   "source": [
    "# Your solution"
   ]
  },
  {
   "cell_type": "markdown",
   "metadata": {},
   "source": [
    "---"
   ]
  },
  {
   "cell_type": "markdown",
   "metadata": {},
   "source": [
    "## Metrics\n",
    "Choose one or more metrics that you're going to optimise with your model. \n",
    "- Reason about which metric(s) you want to use and why.  \n",
    "-`scikit-learn` implements some default metrics that you might be interested in. See if you want and can leverage this.\n"
   ]
  },
  {
   "cell_type": "code",
   "execution_count": null,
   "metadata": {},
   "outputs": [],
   "source": [
    "# Your solution"
   ]
  },
  {
   "cell_type": "markdown",
   "metadata": {},
   "source": [
    "---"
   ]
  },
  {
   "cell_type": "markdown",
   "metadata": {},
   "source": [
    "# Train, validation and test sets\n",
    "To train, validate and evaluate your baseline and models, you'll need to split your data (see the first image). Remember that when working with timeseries, you cannot just use a simple cross validation since your data is autocorrelated. \n",
    "\n",
    "To work around this, you can look into walk-forward optimistation or just timeseries cross validation (see the second image). Walk forward optimisation differs slightly from the standard cross-validation (see third image). The standard cross validation does not respect the order of the data.\n",
    "\n",
    "Note that `scikit-learn` integrates very nicely with `pandas`. For some help with splitting your data, see [this](https://scikit-learn.org/stable/modules/generated/sklearn.model_selection.train_test_split.html) link.\n",
    "\n",
    "\n",
    "### *Train, validation and test split*\n",
    "<img src=\"https://algotrading101.com/learn/wp-content/uploads/2020/06/training-validation-test-data-set.png\" width=\"500px\"/>\n",
    "\n",
    "### *Walk forward optimisation*\n",
    "<img src=\"https://conlanscientific.com/media/content/walk-forward-optimization.png\" width=\"500px\"/>\n",
    "\n",
    "### *Standard cross-validation*\n",
    "<img src=\"https://miro.medium.com/max/1400/1*dJ_8Xg8dYn46umdPq0Qpsg.png\" width=\"500px\"/>"
   ]
  },
  {
   "cell_type": "code",
   "execution_count": null,
   "metadata": {},
   "outputs": [],
   "source": [
    "# Your solution"
   ]
  },
  {
   "cell_type": "markdown",
   "metadata": {},
   "source": [
    "---"
   ]
  },
  {
   "cell_type": "markdown",
   "metadata": {},
   "source": [
    "# Baseline\n",
    "Once you've decided on a metric, you should create a baseline model. This does not have to be a scikit-learn model, it can also be something more trivial. "
   ]
  },
  {
   "cell_type": "code",
   "execution_count": null,
   "metadata": {},
   "outputs": [],
   "source": [
    "# Your solution"
   ]
  },
  {
   "cell_type": "markdown",
   "metadata": {},
   "source": [
    "---"
   ]
  },
  {
   "cell_type": "markdown",
   "metadata": {},
   "source": [
    "# Modeling\n",
    "Now that you've chosen a metric to optimise and have set a baseline, it's time to start modeling. See if you can use your prepared dataset and a `scikit-learn` model of your choice to create predictions that beat the baseline."
   ]
  },
  {
   "cell_type": "code",
   "execution_count": null,
   "metadata": {},
   "outputs": [],
   "source": [
    "# Your solution"
   ]
  },
  {
   "cell_type": "markdown",
   "metadata": {},
   "source": [
    "---"
   ]
  },
  {
   "cell_type": "markdown",
   "metadata": {},
   "source": [
    "# Evaluation\n",
    "Evaluate your model against the metrics that you specified. Use time-series cross validation to optimise any hyperparameters. Use your validation set to conclude the performance of your final model.\n",
    "\n",
    "The test set is not used in this process. You typically use this once and save it for the final evaluation."
   ]
  },
  {
   "cell_type": "code",
   "execution_count": null,
   "metadata": {},
   "outputs": [],
   "source": [
    "# Your solution"
   ]
  }
 ],
 "metadata": {
  "kernelspec": {
   "display_name": "Python 3",
   "language": "python",
   "name": "python3"
  },
  "language_info": {
   "codemirror_mode": {
    "name": "ipython",
    "version": 3
   },
   "file_extension": ".py",
   "mimetype": "text/x-python",
   "name": "python",
   "nbconvert_exporter": "python",
   "pygments_lexer": "ipython3",
   "version": "3.8.5"
  }
 },
 "nbformat": 4,
 "nbformat_minor": 5
}
