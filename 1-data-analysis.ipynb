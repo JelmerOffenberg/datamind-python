{
 "cells": [
  {
   "cell_type": "markdown",
   "metadata": {},
   "source": [
    "# Welcome to Python for Data Science!\n",
    "Today we'll exploring the world of Pandas. We will be using a timeseries dataset from the UCI Machine Learning repository to learn to how to wrangle data and perform analysis. In the second half of the day you'll do some feature engineering and finally there will be room to build a small model to actually put your features to use!\n",
    "\n",
    "<img src=\"https://miro.medium.com/max/1400/1*1oVjIRY3Bnmbw-idCtg4BQ@2x.jpeg\" style=\"width: 60%;\"/>\n",
    "\n",
    "## In this part we'll cover the following topics:\n",
    "- Data ingestion\n",
    "- Data cleaning\n",
    "- Data exploration (specifically timeseries) \n",
    "- Storing your data (you'll need it in the next part). "
   ]
  },
  {
   "cell_type": "markdown",
   "metadata": {},
   "source": [
    "## Downloading data from UCI\n",
    "Use the extract method that is applicable for you. If you have any issues with these steps, please ask for help."
   ]
  },
  {
   "cell_type": "code",
   "execution_count": null,
   "metadata": {},
   "outputs": [],
   "source": [
    "! mkdir -p data && curl -L https://github.com/JelmerOffenberg/datamind-python/blob/master/data/dataset.zip?raw=true --output data/dataset.zip"
   ]
  },
  {
   "cell_type": "code",
   "execution_count": null,
   "metadata": {},
   "outputs": [],
   "source": [
    "# Local machine (MacOS/Linux)\n",
    "# ! tar -xvf data/dataset.zip -C ./data"
   ]
  },
  {
   "cell_type": "code",
   "execution_count": null,
   "metadata": {},
   "outputs": [],
   "source": [
    "# Google Colabs\n",
    "# !unzip data/dataset.zip -d ./data"
   ]
  },
  {
   "cell_type": "code",
   "execution_count": 21,
   "metadata": {},
   "outputs": [],
   "source": [
    "! mv ./data/household_power_consumption.txt ./data/household_power_consumption.csv"
   ]
  },
  {
   "cell_type": "code",
   "execution_count": 23,
   "metadata": {},
   "outputs": [
    {
     "name": "stdout",
     "output_type": "stream",
     "text": [
      "dataset.zip                     ex_2.parquet\r\n",
      "ex_1.parquet                    household_power_consumption.csv\r\n"
     ]
    }
   ],
   "source": [
    "! ls data"
   ]
  },
  {
   "cell_type": "markdown",
   "metadata": {},
   "source": [
    "## Getting started\n",
    "First things first, import the following libraries: `pandas`, `matplotlib` and `numpy`"
   ]
  },
  {
   "cell_type": "code",
   "execution_count": null,
   "metadata": {},
   "outputs": [],
   "source": [
    "# Your solution"
   ]
  },
  {
   "cell_type": "markdown",
   "metadata": {},
   "source": [
    "---"
   ]
  },
  {
   "cell_type": "markdown",
   "metadata": {},
   "source": [
    "# Ingestion\n",
    "The first step in the data science process is data collection. In this section we'll load in some data. Information about the dataset that we'll be loading is located [here](https://archive.ics.uci.edu/ml/datasets/individual+household+electric+power+consumption)\n",
    "- Load the power consumption dataset from the data folder\n",
    "- Inspect the top 5 rows\n",
    "- Check the data types of the dataframe and answer the following questions:\n",
    "    - What's wrong with the data types in the info panel?\n",
    "    - What data types would you expect for each column?\n",
    "    - Does it make sense to have date and time columns separated?\n",
    "    "
   ]
  },
  {
   "cell_type": "code",
   "execution_count": null,
   "metadata": {},
   "outputs": [],
   "source": [
    "# Your solution"
   ]
  },
  {
   "cell_type": "markdown",
   "metadata": {},
   "source": [
    "---"
   ]
  },
  {
   "cell_type": "markdown",
   "metadata": {},
   "source": [
    "# Data cleaning\n",
    "In this section you're going to do some data cleaning. Since this is a timeseries dataset, you'll need to make it more usable before we can continue.\n",
    "- Add date and time columns together and make a single datetime variable. Verify that your new column has the right data type and is correct. The result should be a datetime64\\[ns\\] object.\n",
    "- Remove the date and time column from the dataset. \n",
    "- Have a look at our variable of interest; `Global_active_power`\n",
    "    - What data type was assigned by pandas to this variable? Does this make sense?\n",
    "    - Try casing the variable to the right data type, what do you see?\n",
    "    - Can you explain this behaviour?\n",
    "    - Fix the way you load data and rerun your code\n",
    "    - What change occurred with the data types?\n",
    "- If you read the dataset description in the previous step, it seems that we can construct a column with the total energy consumption based on the columns that are available. Do this and name this column `power`. \n",
    "\n",
    "    "
   ]
  },
  {
   "cell_type": "code",
   "execution_count": null,
   "metadata": {},
   "outputs": [],
   "source": [
    "# Your solution"
   ]
  },
  {
   "cell_type": "markdown",
   "metadata": {},
   "source": [
    "## Missing values\n",
    "Find out if there are weird of missing values in the data. Try to identify the rows and columns and answer the following questions.\n",
    "- are there any missing values in the data set?\n",
    "- if so, which column(s) contain missing values?\n",
    "- if there are any missing values, extract the rows and the number of rows that contain missing values\n",
    "- What would be a good way to deal with the missing values?\n",
    "- Use your prefered approach to deal with the missing values. Validate if there are any missing values left in your data "
   ]
  },
  {
   "cell_type": "code",
   "execution_count": null,
   "metadata": {},
   "outputs": [],
   "source": [
    "# Your solution"
   ]
  },
  {
   "cell_type": "markdown",
   "metadata": {},
   "source": [
    "---"
   ]
  },
  {
   "cell_type": "markdown",
   "metadata": {},
   "source": [
    "# Creating a timeseries\n",
    "In this section we'll combine some data wrangling with data exploration. \n",
    "- The data contains a timeseries, however the current index of the dataframe does not really show this. Change the index to our newly created datetime column so that we end up with a datetime index."
   ]
  },
  {
   "cell_type": "code",
   "execution_count": null,
   "metadata": {},
   "outputs": [],
   "source": [
    "# Your solution"
   ]
  },
  {
   "cell_type": "markdown",
   "metadata": {},
   "source": [
    "## Plotting\n",
    "- Having a dataframe with a timeseries index allows us to some funky tricks \n",
    "    - Plot the `power` column, is this useful?\n",
    "    - Create the same plot on the following aggregation levels:\n",
    "        - Mean per year\n",
    "        - Mean per 3 months\n",
    "        - Mean per week\n",
    "        - Mean per week and median per week\n",
    "    - Explore the use of `transform` on resampled data. What is the difference with running a normal aggregation function such as `.mean()` on resampled data? Show the differences below.\n",
    "    - When would you `transform`?    "
   ]
  },
  {
   "cell_type": "code",
   "execution_count": null,
   "metadata": {},
   "outputs": [],
   "source": [
    "# Your solution"
   ]
  },
  {
   "cell_type": "markdown",
   "metadata": {},
   "source": [
    "## Creating helper functions\n",
    "Instead of changing our code every time, we can create a function that will return the plot(s) that we need. In addtion, creating a function allows you to test your code which a good software engineering practice. For more information on functions, see this [link](https://www.tutorialspoint.com/python/python_functions.htm). Write a function that can do the following:\n",
    "- The function can take in a dataframe, one or more column names, the aggregation level and one or more aggregation metrics (for instance mean or sum). \n",
    "- The function should output the graph"
   ]
  },
  {
   "cell_type": "code",
   "execution_count": null,
   "metadata": {},
   "outputs": [],
   "source": [
    "# Your solution"
   ]
  },
  {
   "cell_type": "markdown",
   "metadata": {},
   "source": [
    "---"
   ]
  },
  {
   "cell_type": "markdown",
   "metadata": {},
   "source": [
    "# Assignment 1:\n",
    "Now that you've seen how to wrangle the data and create some plots, it's time to find the answer to the following questions:\n",
    "- Q1: Find the month with the most power consumption\n",
    "- Q2: Find the top three weeks with the most power consumption\n",
    "- Q3: What week had the largest difference between what was consumed at the most and the least? \n",
    "- Q4: Can you identify periods where there was less than 5000 power consumption per day for at least five consecutive days or more? You might need a few steps to figure this one out.\n",
    "        "
   ]
  },
  {
   "cell_type": "code",
   "execution_count": null,
   "metadata": {},
   "outputs": [],
   "source": [
    "# Your solution"
   ]
  },
  {
   "cell_type": "markdown",
   "metadata": {},
   "source": [
    "---"
   ]
  },
  {
   "cell_type": "markdown",
   "metadata": {},
   "source": [
    "# Storage\n",
    "In this last step, you're going to store the result of your dataset in `parquet` format. \n",
    "- What does this format do? What is the benefit of using this?\n",
    "- You'll need the data in the next exercise so make sure to store it on **day** level. "
   ]
  },
  {
   "cell_type": "code",
   "execution_count": null,
   "metadata": {},
   "outputs": [],
   "source": [
    "!pip install fastparquet"
   ]
  },
  {
   "cell_type": "code",
   "execution_count": null,
   "metadata": {},
   "outputs": [],
   "source": [
    "# Your solution"
   ]
  },
  {
   "cell_type": "markdown",
   "metadata": {},
   "source": [
    "---"
   ]
  }
 ],
 "metadata": {
  "kernelspec": {
   "display_name": "Python 3",
   "language": "python",
   "name": "python3"
  },
  "language_info": {
   "codemirror_mode": {
    "name": "ipython",
    "version": 3
   },
   "file_extension": ".py",
   "mimetype": "text/x-python",
   "name": "python",
   "nbconvert_exporter": "python",
   "pygments_lexer": "ipython3",
   "version": "3.8.5"
  }
 },
 "nbformat": 4,
 "nbformat_minor": 5
}
